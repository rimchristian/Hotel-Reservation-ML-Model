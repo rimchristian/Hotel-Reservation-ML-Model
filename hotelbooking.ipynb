{
  "cells": [
    {
      "cell_type": "markdown",
      "metadata": {
        "id": "view-in-github",
        "colab_type": "text"
      },
      "source": [
        "<a href=\"https://colab.research.google.com/github/rimchristian/Hotel-Reservation-ML-Model/blob/main/hotelbooking.ipynb\" target=\"_parent\"><img src=\"https://colab.research.google.com/assets/colab-badge.svg\" alt=\"Open In Colab\"/></a>"
      ]
    },
    {
      "cell_type": "markdown",
      "metadata": {
        "id": "xcf8UUTUagOo"
      },
      "source": [
        "## **Project Description**"
      ]
    },
    {
      "cell_type": "markdown",
      "metadata": {
        "id": "khfvlwlHdxdb"
      },
      "source": [
        "### **Task**\n",
        "The aim is to predict if the customer is going to honor the reservation or cancel it?"
      ]
    },
    {
      "cell_type": "markdown",
      "metadata": {
        "id": "6Iq0Ztc4ebXf"
      },
      "source": [
        "###**Import Libraries**"
      ]
    },
    {
      "cell_type": "code",
      "execution_count": 181,
      "metadata": {
        "id": "QiGY6GbWzzIG"
      },
      "outputs": [],
      "source": [
        "## Pandas\n",
        "import pandas as pd\n",
        "## Numpy\n",
        "import numpy as np\n",
        "## MatPlotLib\n",
        "import matplotlib.pyplot as plt\n",
        "# seaborn\n",
        "import seaborn as sns\n",
        "\n",
        "## Preprocessing\n",
        "from sklearn.compose import make_column_selector\n",
        "from sklearn.preprocessing import StandardScaler, OneHotEncoder, PolynomialFeatures\n",
        "from sklearn.pipeline import make_pipeline\n",
        "from sklearn.compose import make_column_transformer, make_column_selector\n",
        "from sklearn.impute import SimpleImputer\n",
        "\n",
        "## Models\n",
        "from sklearn.dummy import DummyClassifier\n",
        "from sklearn.linear_model import LogisticRegression \n",
        "from sklearn.neighbors import KNeighborsClassifier\n",
        "from sklearn.ensemble import RandomForestClassifier\n",
        "from sklearn.tree import DecisionTreeClassifier\n",
        "from sklearn.model_selection import train_test_split, GridSearchCV, StratifiedKFold\n",
        "\n",
        "\n",
        "# Boosting Algorithm \n",
        "from sklearn.ensemble import GradientBoostingClassifier\n",
        "\n",
        "\n",
        "## Classification Metrics\n",
        "from sklearn.metrics import accuracy_score, recall_score, precision_score, \\\n",
        "f1_score, classification_report, confusion_matrix, ConfusionMatrixDisplay, \\\n",
        "RocCurveDisplay, roc_auc_score, PrecisionRecallDisplay\n",
        "\n",
        "from sklearn import metrics\n",
        "## Set global scikit-learn configuration \n",
        "from sklearn import set_config\n",
        "## Display estimators as a diagram\n",
        "set_config(display='diagram') # 'text' or 'diagram'}"
      ]
    },
    {
      "cell_type": "markdown",
      "metadata": {
        "id": "7bc8GKJvfid2"
      },
      "source": [
        "### **Functions**"
      ]
    },
    {
      "cell_type": "code",
      "execution_count": 196,
      "metadata": {
        "id": "f4t7-a560HWI"
      },
      "outputs": [],
      "source": [
        "## Define a function that takes in arguments and prints out a classification report and confusion matrix\n",
        "def evaluate_classification(model, X_test, y_test, cmap='Greens',\n",
        "                            normalize=None, classes=None, figsize=(20,5)):\n",
        "  \"\"\"Takes as arguments: a model, features, and labels\n",
        "  Prints a classification report, confusion matrix\n",
        "  Optional arguments: \n",
        "    cmap: colormap \n",
        "    normalize: confusion matrix normalization ['true', 'pred', 'all' or None]\n",
        "    classes: ordered list of class labels\n",
        "    figsize: size of figure\"\"\"\n",
        "  test_preds = model.predict(X_test)\n",
        "  print(metrics.classification_report(y_test, test_preds, \n",
        "                                      zero_division=0,\n",
        "                                      target_names=classes))\n",
        "  \n",
        "  ConfusionMatrixDisplay.from_estimator(model, X_test, y_test, cmap=cmap, \n",
        "                                display_labels=classes,\n",
        "                                normalize='true')\n",
        "  plt.show()  "
      ]
    },
    {
      "cell_type": "code",
      "source": [
        "## Create a function to display the classification metrics of a model\n",
        "def classification_metrics(model, X_test, y_test, label='Test Data', \n",
        "                             figsize=(15,5), normalize='true',\n",
        "                             cmap='Greens'): \n",
        "                             \n",
        "    fig, axes = plt.subplots(1,2, figsize=figsize)\n",
        "\n",
        "    ## Get the predictions\n",
        "    y_pred = model.predict(X_test)\n",
        "     \n",
        "   ## Print classification report for the test data (and make it pretty!)\n",
        "    print('---'*20)\n",
        "    print(f\"[i] CLASSIFICATION REPORT FOR: {label}\")\n",
        "    print('---'*20)\n",
        "\n",
        "    print(classification_report(y_test, y_pred))\n",
        "\n",
        "    ConfusionMatrixDisplay.from_predictions(y_test,y_pred, \n",
        "                normalize=normalize, cmap=cmap,              \n",
        "                ax=axes[0])    \n",
        "    \n",
        "    RocCurveDisplay.from_estimator(model, X_test, y_test,\n",
        "                                   ax=axes[1])\n",
        "    plt.show()\n",
        "    "
      ],
      "metadata": {
        "id": "ZvnE4-1h6mDg"
      },
      "execution_count": 190,
      "outputs": []
    },
    {
      "cell_type": "markdown",
      "metadata": {
        "id": "RTJBml370KXt"
      },
      "source": [
        "# **Load and Inspect the Data**"
      ]
    },
    {
      "cell_type": "code",
      "execution_count": 116,
      "metadata": {
        "id": "C2YA7zLyaQQq"
      },
      "outputs": [],
      "source": [
        "filename = '/content/Hotel_Reservations.csv'\n",
        "df = pd.read_csv(filename)"
      ]
    },
    {
      "cell_type": "code",
      "execution_count": 117,
      "metadata": {
        "colab": {
          "base_uri": "https://localhost:8080/",
          "height": 268
        },
        "id": "Nlu9UxKYfogq",
        "outputId": "04dd0478-aae1-4c40-be69-9d775730a3cd"
      },
      "outputs": [
        {
          "output_type": "execute_result",
          "data": {
            "text/plain": [
              "  Booking_ID  no_of_adults  no_of_children  no_of_weekend_nights  \\\n",
              "0   INN00001             2               0                     1   \n",
              "1   INN00002             2               0                     2   \n",
              "2   INN00003             1               0                     2   \n",
              "3   INN00004             2               0                     0   \n",
              "4   INN00005             2               0                     1   \n",
              "\n",
              "   no_of_week_nights type_of_meal_plan  required_car_parking_space  \\\n",
              "0                  2       Meal Plan 1                           0   \n",
              "1                  3      Not Selected                           0   \n",
              "2                  1       Meal Plan 1                           0   \n",
              "3                  2       Meal Plan 1                           0   \n",
              "4                  1      Not Selected                           0   \n",
              "\n",
              "  room_type_reserved  lead_time  arrival_year  arrival_month  arrival_date  \\\n",
              "0        Room_Type 1        224          2017             10             2   \n",
              "1        Room_Type 1          5          2018             11             6   \n",
              "2        Room_Type 1          1          2018              2            28   \n",
              "3        Room_Type 1        211          2018              5            20   \n",
              "4        Room_Type 1         48          2018              4            11   \n",
              "\n",
              "  market_segment_type  repeated_guest  no_of_previous_cancellations  \\\n",
              "0             Offline               0                             0   \n",
              "1              Online               0                             0   \n",
              "2              Online               0                             0   \n",
              "3              Online               0                             0   \n",
              "4              Online               0                             0   \n",
              "\n",
              "   no_of_previous_bookings_not_canceled  avg_price_per_room  \\\n",
              "0                                     0               65.00   \n",
              "1                                     0              106.68   \n",
              "2                                     0               60.00   \n",
              "3                                     0              100.00   \n",
              "4                                     0               94.50   \n",
              "\n",
              "   no_of_special_requests booking_status  \n",
              "0                       0   Not_Canceled  \n",
              "1                       1   Not_Canceled  \n",
              "2                       0       Canceled  \n",
              "3                       0       Canceled  \n",
              "4                       0       Canceled  "
            ],
            "text/html": [
              "\n",
              "  <div id=\"df-ee4e1d55-0c98-44a3-b085-60dd9159064c\">\n",
              "    <div class=\"colab-df-container\">\n",
              "      <div>\n",
              "<style scoped>\n",
              "    .dataframe tbody tr th:only-of-type {\n",
              "        vertical-align: middle;\n",
              "    }\n",
              "\n",
              "    .dataframe tbody tr th {\n",
              "        vertical-align: top;\n",
              "    }\n",
              "\n",
              "    .dataframe thead th {\n",
              "        text-align: right;\n",
              "    }\n",
              "</style>\n",
              "<table border=\"1\" class=\"dataframe\">\n",
              "  <thead>\n",
              "    <tr style=\"text-align: right;\">\n",
              "      <th></th>\n",
              "      <th>Booking_ID</th>\n",
              "      <th>no_of_adults</th>\n",
              "      <th>no_of_children</th>\n",
              "      <th>no_of_weekend_nights</th>\n",
              "      <th>no_of_week_nights</th>\n",
              "      <th>type_of_meal_plan</th>\n",
              "      <th>required_car_parking_space</th>\n",
              "      <th>room_type_reserved</th>\n",
              "      <th>lead_time</th>\n",
              "      <th>arrival_year</th>\n",
              "      <th>arrival_month</th>\n",
              "      <th>arrival_date</th>\n",
              "      <th>market_segment_type</th>\n",
              "      <th>repeated_guest</th>\n",
              "      <th>no_of_previous_cancellations</th>\n",
              "      <th>no_of_previous_bookings_not_canceled</th>\n",
              "      <th>avg_price_per_room</th>\n",
              "      <th>no_of_special_requests</th>\n",
              "      <th>booking_status</th>\n",
              "    </tr>\n",
              "  </thead>\n",
              "  <tbody>\n",
              "    <tr>\n",
              "      <th>0</th>\n",
              "      <td>INN00001</td>\n",
              "      <td>2</td>\n",
              "      <td>0</td>\n",
              "      <td>1</td>\n",
              "      <td>2</td>\n",
              "      <td>Meal Plan 1</td>\n",
              "      <td>0</td>\n",
              "      <td>Room_Type 1</td>\n",
              "      <td>224</td>\n",
              "      <td>2017</td>\n",
              "      <td>10</td>\n",
              "      <td>2</td>\n",
              "      <td>Offline</td>\n",
              "      <td>0</td>\n",
              "      <td>0</td>\n",
              "      <td>0</td>\n",
              "      <td>65.00</td>\n",
              "      <td>0</td>\n",
              "      <td>Not_Canceled</td>\n",
              "    </tr>\n",
              "    <tr>\n",
              "      <th>1</th>\n",
              "      <td>INN00002</td>\n",
              "      <td>2</td>\n",
              "      <td>0</td>\n",
              "      <td>2</td>\n",
              "      <td>3</td>\n",
              "      <td>Not Selected</td>\n",
              "      <td>0</td>\n",
              "      <td>Room_Type 1</td>\n",
              "      <td>5</td>\n",
              "      <td>2018</td>\n",
              "      <td>11</td>\n",
              "      <td>6</td>\n",
              "      <td>Online</td>\n",
              "      <td>0</td>\n",
              "      <td>0</td>\n",
              "      <td>0</td>\n",
              "      <td>106.68</td>\n",
              "      <td>1</td>\n",
              "      <td>Not_Canceled</td>\n",
              "    </tr>\n",
              "    <tr>\n",
              "      <th>2</th>\n",
              "      <td>INN00003</td>\n",
              "      <td>1</td>\n",
              "      <td>0</td>\n",
              "      <td>2</td>\n",
              "      <td>1</td>\n",
              "      <td>Meal Plan 1</td>\n",
              "      <td>0</td>\n",
              "      <td>Room_Type 1</td>\n",
              "      <td>1</td>\n",
              "      <td>2018</td>\n",
              "      <td>2</td>\n",
              "      <td>28</td>\n",
              "      <td>Online</td>\n",
              "      <td>0</td>\n",
              "      <td>0</td>\n",
              "      <td>0</td>\n",
              "      <td>60.00</td>\n",
              "      <td>0</td>\n",
              "      <td>Canceled</td>\n",
              "    </tr>\n",
              "    <tr>\n",
              "      <th>3</th>\n",
              "      <td>INN00004</td>\n",
              "      <td>2</td>\n",
              "      <td>0</td>\n",
              "      <td>0</td>\n",
              "      <td>2</td>\n",
              "      <td>Meal Plan 1</td>\n",
              "      <td>0</td>\n",
              "      <td>Room_Type 1</td>\n",
              "      <td>211</td>\n",
              "      <td>2018</td>\n",
              "      <td>5</td>\n",
              "      <td>20</td>\n",
              "      <td>Online</td>\n",
              "      <td>0</td>\n",
              "      <td>0</td>\n",
              "      <td>0</td>\n",
              "      <td>100.00</td>\n",
              "      <td>0</td>\n",
              "      <td>Canceled</td>\n",
              "    </tr>\n",
              "    <tr>\n",
              "      <th>4</th>\n",
              "      <td>INN00005</td>\n",
              "      <td>2</td>\n",
              "      <td>0</td>\n",
              "      <td>1</td>\n",
              "      <td>1</td>\n",
              "      <td>Not Selected</td>\n",
              "      <td>0</td>\n",
              "      <td>Room_Type 1</td>\n",
              "      <td>48</td>\n",
              "      <td>2018</td>\n",
              "      <td>4</td>\n",
              "      <td>11</td>\n",
              "      <td>Online</td>\n",
              "      <td>0</td>\n",
              "      <td>0</td>\n",
              "      <td>0</td>\n",
              "      <td>94.50</td>\n",
              "      <td>0</td>\n",
              "      <td>Canceled</td>\n",
              "    </tr>\n",
              "  </tbody>\n",
              "</table>\n",
              "</div>\n",
              "      <button class=\"colab-df-convert\" onclick=\"convertToInteractive('df-ee4e1d55-0c98-44a3-b085-60dd9159064c')\"\n",
              "              title=\"Convert this dataframe to an interactive table.\"\n",
              "              style=\"display:none;\">\n",
              "        \n",
              "  <svg xmlns=\"http://www.w3.org/2000/svg\" height=\"24px\"viewBox=\"0 0 24 24\"\n",
              "       width=\"24px\">\n",
              "    <path d=\"M0 0h24v24H0V0z\" fill=\"none\"/>\n",
              "    <path d=\"M18.56 5.44l.94 2.06.94-2.06 2.06-.94-2.06-.94-.94-2.06-.94 2.06-2.06.94zm-11 1L8.5 8.5l.94-2.06 2.06-.94-2.06-.94L8.5 2.5l-.94 2.06-2.06.94zm10 10l.94 2.06.94-2.06 2.06-.94-2.06-.94-.94-2.06-.94 2.06-2.06.94z\"/><path d=\"M17.41 7.96l-1.37-1.37c-.4-.4-.92-.59-1.43-.59-.52 0-1.04.2-1.43.59L10.3 9.45l-7.72 7.72c-.78.78-.78 2.05 0 2.83L4 21.41c.39.39.9.59 1.41.59.51 0 1.02-.2 1.41-.59l7.78-7.78 2.81-2.81c.8-.78.8-2.07 0-2.86zM5.41 20L4 18.59l7.72-7.72 1.47 1.35L5.41 20z\"/>\n",
              "  </svg>\n",
              "      </button>\n",
              "      \n",
              "  <style>\n",
              "    .colab-df-container {\n",
              "      display:flex;\n",
              "      flex-wrap:wrap;\n",
              "      gap: 12px;\n",
              "    }\n",
              "\n",
              "    .colab-df-convert {\n",
              "      background-color: #E8F0FE;\n",
              "      border: none;\n",
              "      border-radius: 50%;\n",
              "      cursor: pointer;\n",
              "      display: none;\n",
              "      fill: #1967D2;\n",
              "      height: 32px;\n",
              "      padding: 0 0 0 0;\n",
              "      width: 32px;\n",
              "    }\n",
              "\n",
              "    .colab-df-convert:hover {\n",
              "      background-color: #E2EBFA;\n",
              "      box-shadow: 0px 1px 2px rgba(60, 64, 67, 0.3), 0px 1px 3px 1px rgba(60, 64, 67, 0.15);\n",
              "      fill: #174EA6;\n",
              "    }\n",
              "\n",
              "    [theme=dark] .colab-df-convert {\n",
              "      background-color: #3B4455;\n",
              "      fill: #D2E3FC;\n",
              "    }\n",
              "\n",
              "    [theme=dark] .colab-df-convert:hover {\n",
              "      background-color: #434B5C;\n",
              "      box-shadow: 0px 1px 3px 1px rgba(0, 0, 0, 0.15);\n",
              "      filter: drop-shadow(0px 1px 2px rgba(0, 0, 0, 0.3));\n",
              "      fill: #FFFFFF;\n",
              "    }\n",
              "  </style>\n",
              "\n",
              "      <script>\n",
              "        const buttonEl =\n",
              "          document.querySelector('#df-ee4e1d55-0c98-44a3-b085-60dd9159064c button.colab-df-convert');\n",
              "        buttonEl.style.display =\n",
              "          google.colab.kernel.accessAllowed ? 'block' : 'none';\n",
              "\n",
              "        async function convertToInteractive(key) {\n",
              "          const element = document.querySelector('#df-ee4e1d55-0c98-44a3-b085-60dd9159064c');\n",
              "          const dataTable =\n",
              "            await google.colab.kernel.invokeFunction('convertToInteractive',\n",
              "                                                     [key], {});\n",
              "          if (!dataTable) return;\n",
              "\n",
              "          const docLinkHtml = 'Like what you see? Visit the ' +\n",
              "            '<a target=\"_blank\" href=https://colab.research.google.com/notebooks/data_table.ipynb>data table notebook</a>'\n",
              "            + ' to learn more about interactive tables.';\n",
              "          element.innerHTML = '';\n",
              "          dataTable['output_type'] = 'display_data';\n",
              "          await google.colab.output.renderOutput(dataTable, element);\n",
              "          const docLink = document.createElement('div');\n",
              "          docLink.innerHTML = docLinkHtml;\n",
              "          element.appendChild(docLink);\n",
              "        }\n",
              "      </script>\n",
              "    </div>\n",
              "  </div>\n",
              "  "
            ]
          },
          "metadata": {},
          "execution_count": 117
        }
      ],
      "source": [
        "# display the first 5 rows\n",
        "df.head()"
      ]
    },
    {
      "cell_type": "code",
      "execution_count": 118,
      "metadata": {
        "colab": {
          "base_uri": "https://localhost:8080/"
        },
        "id": "nI2wAGPhgAmM",
        "outputId": "1f1ca625-5b9e-4d8b-f818-0d625c798c5a"
      },
      "outputs": [
        {
          "output_type": "stream",
          "name": "stdout",
          "text": [
            "There are 36275 rows, and 19 columns.\n",
            "The rows represent 36275 observations, and the columns represent 18 features and 1 target variable.\n"
          ]
        }
      ],
      "source": [
        "df.shape\n",
        "print(f'There are {df.shape[0]} rows, and {df.shape[1]} columns.')\n",
        "print(f'The rows represent {df.shape[0]} observations, and the columns represent {df.shape[1]-1} features and 1 target variable.')"
      ]
    },
    {
      "cell_type": "code",
      "execution_count": 119,
      "metadata": {
        "colab": {
          "base_uri": "https://localhost:8080/"
        },
        "id": "VBvlpnhzgi0r",
        "outputId": "0cea3f8e-03b4-4047-d954-f85d5b6755d0"
      },
      "outputs": [
        {
          "output_type": "stream",
          "name": "stdout",
          "text": [
            "<class 'pandas.core.frame.DataFrame'>\n",
            "RangeIndex: 36275 entries, 0 to 36274\n",
            "Data columns (total 19 columns):\n",
            " #   Column                                Non-Null Count  Dtype  \n",
            "---  ------                                --------------  -----  \n",
            " 0   Booking_ID                            36275 non-null  object \n",
            " 1   no_of_adults                          36275 non-null  int64  \n",
            " 2   no_of_children                        36275 non-null  int64  \n",
            " 3   no_of_weekend_nights                  36275 non-null  int64  \n",
            " 4   no_of_week_nights                     36275 non-null  int64  \n",
            " 5   type_of_meal_plan                     36275 non-null  object \n",
            " 6   required_car_parking_space            36275 non-null  int64  \n",
            " 7   room_type_reserved                    36275 non-null  object \n",
            " 8   lead_time                             36275 non-null  int64  \n",
            " 9   arrival_year                          36275 non-null  int64  \n",
            " 10  arrival_month                         36275 non-null  int64  \n",
            " 11  arrival_date                          36275 non-null  int64  \n",
            " 12  market_segment_type                   36275 non-null  object \n",
            " 13  repeated_guest                        36275 non-null  int64  \n",
            " 14  no_of_previous_cancellations          36275 non-null  int64  \n",
            " 15  no_of_previous_bookings_not_canceled  36275 non-null  int64  \n",
            " 16  avg_price_per_room                    36275 non-null  float64\n",
            " 17  no_of_special_requests                36275 non-null  int64  \n",
            " 18  booking_status                        36275 non-null  object \n",
            "dtypes: float64(1), int64(13), object(5)\n",
            "memory usage: 5.3+ MB\n"
          ]
        }
      ],
      "source": [
        "df.info()"
      ]
    },
    {
      "cell_type": "markdown",
      "metadata": {
        "id": "GdAWFSRx5BhI"
      },
      "source": [
        "There are 19 variables in this dataset, with a total of 36,275 observations. \"Booking_status\" is the target variable, which has two categories encoded as 1 (canceled) and 0 (non-canceled). "
      ]
    },
    {
      "cell_type": "markdown",
      "metadata": {
        "id": "gBmab5CfhpUf"
      },
      "source": [
        "### **Inspecting**"
      ]
    },
    {
      "cell_type": "code",
      "execution_count": 120,
      "metadata": {
        "colab": {
          "base_uri": "https://localhost:8080/",
          "height": 361
        },
        "id": "eAluFQcOg-Z9",
        "outputId": "3a88dccc-93fc-491c-e0ad-c4e655bd2fd7"
      },
      "outputs": [
        {
          "output_type": "execute_result",
          "data": {
            "text/plain": [
              "       no_of_adults  no_of_children  no_of_weekend_nights  no_of_week_nights  \\\n",
              "count  36275.000000    36275.000000          36275.000000       36275.000000   \n",
              "mean       1.844962        0.105279              0.810724           2.204300   \n",
              "std        0.518715        0.402648              0.870644           1.410905   \n",
              "min        0.000000        0.000000              0.000000           0.000000   \n",
              "25%        2.000000        0.000000              0.000000           1.000000   \n",
              "50%        2.000000        0.000000              1.000000           2.000000   \n",
              "75%        2.000000        0.000000              2.000000           3.000000   \n",
              "max        4.000000       10.000000              7.000000          17.000000   \n",
              "\n",
              "       required_car_parking_space     lead_time  arrival_year  arrival_month  \\\n",
              "count                36275.000000  36275.000000  36275.000000   36275.000000   \n",
              "mean                     0.030986     85.232557   2017.820427       7.423653   \n",
              "std                      0.173281     85.930817      0.383836       3.069894   \n",
              "min                      0.000000      0.000000   2017.000000       1.000000   \n",
              "25%                      0.000000     17.000000   2018.000000       5.000000   \n",
              "50%                      0.000000     57.000000   2018.000000       8.000000   \n",
              "75%                      0.000000    126.000000   2018.000000      10.000000   \n",
              "max                      1.000000    443.000000   2018.000000      12.000000   \n",
              "\n",
              "       arrival_date  repeated_guest  no_of_previous_cancellations  \\\n",
              "count  36275.000000    36275.000000                  36275.000000   \n",
              "mean      15.596995        0.025637                      0.023349   \n",
              "std        8.740447        0.158053                      0.368331   \n",
              "min        1.000000        0.000000                      0.000000   \n",
              "25%        8.000000        0.000000                      0.000000   \n",
              "50%       16.000000        0.000000                      0.000000   \n",
              "75%       23.000000        0.000000                      0.000000   \n",
              "max       31.000000        1.000000                     13.000000   \n",
              "\n",
              "       no_of_previous_bookings_not_canceled  avg_price_per_room  \\\n",
              "count                          36275.000000        36275.000000   \n",
              "mean                               0.153411          103.423539   \n",
              "std                                1.754171           35.089424   \n",
              "min                                0.000000            0.000000   \n",
              "25%                                0.000000           80.300000   \n",
              "50%                                0.000000           99.450000   \n",
              "75%                                0.000000          120.000000   \n",
              "max                               58.000000          540.000000   \n",
              "\n",
              "       no_of_special_requests  \n",
              "count            36275.000000  \n",
              "mean                 0.619655  \n",
              "std                  0.786236  \n",
              "min                  0.000000  \n",
              "25%                  0.000000  \n",
              "50%                  0.000000  \n",
              "75%                  1.000000  \n",
              "max                  5.000000  "
            ],
            "text/html": [
              "\n",
              "  <div id=\"df-af3f4e87-ddb6-4846-bb1a-d30cc0a2bd9c\">\n",
              "    <div class=\"colab-df-container\">\n",
              "      <div>\n",
              "<style scoped>\n",
              "    .dataframe tbody tr th:only-of-type {\n",
              "        vertical-align: middle;\n",
              "    }\n",
              "\n",
              "    .dataframe tbody tr th {\n",
              "        vertical-align: top;\n",
              "    }\n",
              "\n",
              "    .dataframe thead th {\n",
              "        text-align: right;\n",
              "    }\n",
              "</style>\n",
              "<table border=\"1\" class=\"dataframe\">\n",
              "  <thead>\n",
              "    <tr style=\"text-align: right;\">\n",
              "      <th></th>\n",
              "      <th>no_of_adults</th>\n",
              "      <th>no_of_children</th>\n",
              "      <th>no_of_weekend_nights</th>\n",
              "      <th>no_of_week_nights</th>\n",
              "      <th>required_car_parking_space</th>\n",
              "      <th>lead_time</th>\n",
              "      <th>arrival_year</th>\n",
              "      <th>arrival_month</th>\n",
              "      <th>arrival_date</th>\n",
              "      <th>repeated_guest</th>\n",
              "      <th>no_of_previous_cancellations</th>\n",
              "      <th>no_of_previous_bookings_not_canceled</th>\n",
              "      <th>avg_price_per_room</th>\n",
              "      <th>no_of_special_requests</th>\n",
              "    </tr>\n",
              "  </thead>\n",
              "  <tbody>\n",
              "    <tr>\n",
              "      <th>count</th>\n",
              "      <td>36275.000000</td>\n",
              "      <td>36275.000000</td>\n",
              "      <td>36275.000000</td>\n",
              "      <td>36275.000000</td>\n",
              "      <td>36275.000000</td>\n",
              "      <td>36275.000000</td>\n",
              "      <td>36275.000000</td>\n",
              "      <td>36275.000000</td>\n",
              "      <td>36275.000000</td>\n",
              "      <td>36275.000000</td>\n",
              "      <td>36275.000000</td>\n",
              "      <td>36275.000000</td>\n",
              "      <td>36275.000000</td>\n",
              "      <td>36275.000000</td>\n",
              "    </tr>\n",
              "    <tr>\n",
              "      <th>mean</th>\n",
              "      <td>1.844962</td>\n",
              "      <td>0.105279</td>\n",
              "      <td>0.810724</td>\n",
              "      <td>2.204300</td>\n",
              "      <td>0.030986</td>\n",
              "      <td>85.232557</td>\n",
              "      <td>2017.820427</td>\n",
              "      <td>7.423653</td>\n",
              "      <td>15.596995</td>\n",
              "      <td>0.025637</td>\n",
              "      <td>0.023349</td>\n",
              "      <td>0.153411</td>\n",
              "      <td>103.423539</td>\n",
              "      <td>0.619655</td>\n",
              "    </tr>\n",
              "    <tr>\n",
              "      <th>std</th>\n",
              "      <td>0.518715</td>\n",
              "      <td>0.402648</td>\n",
              "      <td>0.870644</td>\n",
              "      <td>1.410905</td>\n",
              "      <td>0.173281</td>\n",
              "      <td>85.930817</td>\n",
              "      <td>0.383836</td>\n",
              "      <td>3.069894</td>\n",
              "      <td>8.740447</td>\n",
              "      <td>0.158053</td>\n",
              "      <td>0.368331</td>\n",
              "      <td>1.754171</td>\n",
              "      <td>35.089424</td>\n",
              "      <td>0.786236</td>\n",
              "    </tr>\n",
              "    <tr>\n",
              "      <th>min</th>\n",
              "      <td>0.000000</td>\n",
              "      <td>0.000000</td>\n",
              "      <td>0.000000</td>\n",
              "      <td>0.000000</td>\n",
              "      <td>0.000000</td>\n",
              "      <td>0.000000</td>\n",
              "      <td>2017.000000</td>\n",
              "      <td>1.000000</td>\n",
              "      <td>1.000000</td>\n",
              "      <td>0.000000</td>\n",
              "      <td>0.000000</td>\n",
              "      <td>0.000000</td>\n",
              "      <td>0.000000</td>\n",
              "      <td>0.000000</td>\n",
              "    </tr>\n",
              "    <tr>\n",
              "      <th>25%</th>\n",
              "      <td>2.000000</td>\n",
              "      <td>0.000000</td>\n",
              "      <td>0.000000</td>\n",
              "      <td>1.000000</td>\n",
              "      <td>0.000000</td>\n",
              "      <td>17.000000</td>\n",
              "      <td>2018.000000</td>\n",
              "      <td>5.000000</td>\n",
              "      <td>8.000000</td>\n",
              "      <td>0.000000</td>\n",
              "      <td>0.000000</td>\n",
              "      <td>0.000000</td>\n",
              "      <td>80.300000</td>\n",
              "      <td>0.000000</td>\n",
              "    </tr>\n",
              "    <tr>\n",
              "      <th>50%</th>\n",
              "      <td>2.000000</td>\n",
              "      <td>0.000000</td>\n",
              "      <td>1.000000</td>\n",
              "      <td>2.000000</td>\n",
              "      <td>0.000000</td>\n",
              "      <td>57.000000</td>\n",
              "      <td>2018.000000</td>\n",
              "      <td>8.000000</td>\n",
              "      <td>16.000000</td>\n",
              "      <td>0.000000</td>\n",
              "      <td>0.000000</td>\n",
              "      <td>0.000000</td>\n",
              "      <td>99.450000</td>\n",
              "      <td>0.000000</td>\n",
              "    </tr>\n",
              "    <tr>\n",
              "      <th>75%</th>\n",
              "      <td>2.000000</td>\n",
              "      <td>0.000000</td>\n",
              "      <td>2.000000</td>\n",
              "      <td>3.000000</td>\n",
              "      <td>0.000000</td>\n",
              "      <td>126.000000</td>\n",
              "      <td>2018.000000</td>\n",
              "      <td>10.000000</td>\n",
              "      <td>23.000000</td>\n",
              "      <td>0.000000</td>\n",
              "      <td>0.000000</td>\n",
              "      <td>0.000000</td>\n",
              "      <td>120.000000</td>\n",
              "      <td>1.000000</td>\n",
              "    </tr>\n",
              "    <tr>\n",
              "      <th>max</th>\n",
              "      <td>4.000000</td>\n",
              "      <td>10.000000</td>\n",
              "      <td>7.000000</td>\n",
              "      <td>17.000000</td>\n",
              "      <td>1.000000</td>\n",
              "      <td>443.000000</td>\n",
              "      <td>2018.000000</td>\n",
              "      <td>12.000000</td>\n",
              "      <td>31.000000</td>\n",
              "      <td>1.000000</td>\n",
              "      <td>13.000000</td>\n",
              "      <td>58.000000</td>\n",
              "      <td>540.000000</td>\n",
              "      <td>5.000000</td>\n",
              "    </tr>\n",
              "  </tbody>\n",
              "</table>\n",
              "</div>\n",
              "      <button class=\"colab-df-convert\" onclick=\"convertToInteractive('df-af3f4e87-ddb6-4846-bb1a-d30cc0a2bd9c')\"\n",
              "              title=\"Convert this dataframe to an interactive table.\"\n",
              "              style=\"display:none;\">\n",
              "        \n",
              "  <svg xmlns=\"http://www.w3.org/2000/svg\" height=\"24px\"viewBox=\"0 0 24 24\"\n",
              "       width=\"24px\">\n",
              "    <path d=\"M0 0h24v24H0V0z\" fill=\"none\"/>\n",
              "    <path d=\"M18.56 5.44l.94 2.06.94-2.06 2.06-.94-2.06-.94-.94-2.06-.94 2.06-2.06.94zm-11 1L8.5 8.5l.94-2.06 2.06-.94-2.06-.94L8.5 2.5l-.94 2.06-2.06.94zm10 10l.94 2.06.94-2.06 2.06-.94-2.06-.94-.94-2.06-.94 2.06-2.06.94z\"/><path d=\"M17.41 7.96l-1.37-1.37c-.4-.4-.92-.59-1.43-.59-.52 0-1.04.2-1.43.59L10.3 9.45l-7.72 7.72c-.78.78-.78 2.05 0 2.83L4 21.41c.39.39.9.59 1.41.59.51 0 1.02-.2 1.41-.59l7.78-7.78 2.81-2.81c.8-.78.8-2.07 0-2.86zM5.41 20L4 18.59l7.72-7.72 1.47 1.35L5.41 20z\"/>\n",
              "  </svg>\n",
              "      </button>\n",
              "      \n",
              "  <style>\n",
              "    .colab-df-container {\n",
              "      display:flex;\n",
              "      flex-wrap:wrap;\n",
              "      gap: 12px;\n",
              "    }\n",
              "\n",
              "    .colab-df-convert {\n",
              "      background-color: #E8F0FE;\n",
              "      border: none;\n",
              "      border-radius: 50%;\n",
              "      cursor: pointer;\n",
              "      display: none;\n",
              "      fill: #1967D2;\n",
              "      height: 32px;\n",
              "      padding: 0 0 0 0;\n",
              "      width: 32px;\n",
              "    }\n",
              "\n",
              "    .colab-df-convert:hover {\n",
              "      background-color: #E2EBFA;\n",
              "      box-shadow: 0px 1px 2px rgba(60, 64, 67, 0.3), 0px 1px 3px 1px rgba(60, 64, 67, 0.15);\n",
              "      fill: #174EA6;\n",
              "    }\n",
              "\n",
              "    [theme=dark] .colab-df-convert {\n",
              "      background-color: #3B4455;\n",
              "      fill: #D2E3FC;\n",
              "    }\n",
              "\n",
              "    [theme=dark] .colab-df-convert:hover {\n",
              "      background-color: #434B5C;\n",
              "      box-shadow: 0px 1px 3px 1px rgba(0, 0, 0, 0.15);\n",
              "      filter: drop-shadow(0px 1px 2px rgba(0, 0, 0, 0.3));\n",
              "      fill: #FFFFFF;\n",
              "    }\n",
              "  </style>\n",
              "\n",
              "      <script>\n",
              "        const buttonEl =\n",
              "          document.querySelector('#df-af3f4e87-ddb6-4846-bb1a-d30cc0a2bd9c button.colab-df-convert');\n",
              "        buttonEl.style.display =\n",
              "          google.colab.kernel.accessAllowed ? 'block' : 'none';\n",
              "\n",
              "        async function convertToInteractive(key) {\n",
              "          const element = document.querySelector('#df-af3f4e87-ddb6-4846-bb1a-d30cc0a2bd9c');\n",
              "          const dataTable =\n",
              "            await google.colab.kernel.invokeFunction('convertToInteractive',\n",
              "                                                     [key], {});\n",
              "          if (!dataTable) return;\n",
              "\n",
              "          const docLinkHtml = 'Like what you see? Visit the ' +\n",
              "            '<a target=\"_blank\" href=https://colab.research.google.com/notebooks/data_table.ipynb>data table notebook</a>'\n",
              "            + ' to learn more about interactive tables.';\n",
              "          element.innerHTML = '';\n",
              "          dataTable['output_type'] = 'display_data';\n",
              "          await google.colab.output.renderOutput(dataTable, element);\n",
              "          const docLink = document.createElement('div');\n",
              "          docLink.innerHTML = docLinkHtml;\n",
              "          element.appendChild(docLink);\n",
              "        }\n",
              "      </script>\n",
              "    </div>\n",
              "  </div>\n",
              "  "
            ]
          },
          "metadata": {},
          "execution_count": 120
        }
      ],
      "source": [
        "# display the descriptive statistics for the numeric columns\n",
        "df.describe(include='number')"
      ]
    },
    {
      "cell_type": "code",
      "execution_count": 121,
      "metadata": {
        "colab": {
          "base_uri": "https://localhost:8080/",
          "height": 173
        },
        "id": "C2L8HoywhKcc",
        "outputId": "aa29ed49-8b74-42ed-cf08-999710894064"
      },
      "outputs": [
        {
          "output_type": "execute_result",
          "data": {
            "text/plain": [
              "       Booking_ID type_of_meal_plan room_type_reserved market_segment_type  \\\n",
              "count       36275             36275              36275               36275   \n",
              "unique      36275                 4                  7                   5   \n",
              "top      INN00001       Meal Plan 1        Room_Type 1              Online   \n",
              "freq            1             27835              28130               23214   \n",
              "\n",
              "       booking_status  \n",
              "count           36275  \n",
              "unique              2  \n",
              "top      Not_Canceled  \n",
              "freq            24390  "
            ],
            "text/html": [
              "\n",
              "  <div id=\"df-e1f96f45-8d7d-424b-b6a6-99421fbcfeb1\">\n",
              "    <div class=\"colab-df-container\">\n",
              "      <div>\n",
              "<style scoped>\n",
              "    .dataframe tbody tr th:only-of-type {\n",
              "        vertical-align: middle;\n",
              "    }\n",
              "\n",
              "    .dataframe tbody tr th {\n",
              "        vertical-align: top;\n",
              "    }\n",
              "\n",
              "    .dataframe thead th {\n",
              "        text-align: right;\n",
              "    }\n",
              "</style>\n",
              "<table border=\"1\" class=\"dataframe\">\n",
              "  <thead>\n",
              "    <tr style=\"text-align: right;\">\n",
              "      <th></th>\n",
              "      <th>Booking_ID</th>\n",
              "      <th>type_of_meal_plan</th>\n",
              "      <th>room_type_reserved</th>\n",
              "      <th>market_segment_type</th>\n",
              "      <th>booking_status</th>\n",
              "    </tr>\n",
              "  </thead>\n",
              "  <tbody>\n",
              "    <tr>\n",
              "      <th>count</th>\n",
              "      <td>36275</td>\n",
              "      <td>36275</td>\n",
              "      <td>36275</td>\n",
              "      <td>36275</td>\n",
              "      <td>36275</td>\n",
              "    </tr>\n",
              "    <tr>\n",
              "      <th>unique</th>\n",
              "      <td>36275</td>\n",
              "      <td>4</td>\n",
              "      <td>7</td>\n",
              "      <td>5</td>\n",
              "      <td>2</td>\n",
              "    </tr>\n",
              "    <tr>\n",
              "      <th>top</th>\n",
              "      <td>INN00001</td>\n",
              "      <td>Meal Plan 1</td>\n",
              "      <td>Room_Type 1</td>\n",
              "      <td>Online</td>\n",
              "      <td>Not_Canceled</td>\n",
              "    </tr>\n",
              "    <tr>\n",
              "      <th>freq</th>\n",
              "      <td>1</td>\n",
              "      <td>27835</td>\n",
              "      <td>28130</td>\n",
              "      <td>23214</td>\n",
              "      <td>24390</td>\n",
              "    </tr>\n",
              "  </tbody>\n",
              "</table>\n",
              "</div>\n",
              "      <button class=\"colab-df-convert\" onclick=\"convertToInteractive('df-e1f96f45-8d7d-424b-b6a6-99421fbcfeb1')\"\n",
              "              title=\"Convert this dataframe to an interactive table.\"\n",
              "              style=\"display:none;\">\n",
              "        \n",
              "  <svg xmlns=\"http://www.w3.org/2000/svg\" height=\"24px\"viewBox=\"0 0 24 24\"\n",
              "       width=\"24px\">\n",
              "    <path d=\"M0 0h24v24H0V0z\" fill=\"none\"/>\n",
              "    <path d=\"M18.56 5.44l.94 2.06.94-2.06 2.06-.94-2.06-.94-.94-2.06-.94 2.06-2.06.94zm-11 1L8.5 8.5l.94-2.06 2.06-.94-2.06-.94L8.5 2.5l-.94 2.06-2.06.94zm10 10l.94 2.06.94-2.06 2.06-.94-2.06-.94-.94-2.06-.94 2.06-2.06.94z\"/><path d=\"M17.41 7.96l-1.37-1.37c-.4-.4-.92-.59-1.43-.59-.52 0-1.04.2-1.43.59L10.3 9.45l-7.72 7.72c-.78.78-.78 2.05 0 2.83L4 21.41c.39.39.9.59 1.41.59.51 0 1.02-.2 1.41-.59l7.78-7.78 2.81-2.81c.8-.78.8-2.07 0-2.86zM5.41 20L4 18.59l7.72-7.72 1.47 1.35L5.41 20z\"/>\n",
              "  </svg>\n",
              "      </button>\n",
              "      \n",
              "  <style>\n",
              "    .colab-df-container {\n",
              "      display:flex;\n",
              "      flex-wrap:wrap;\n",
              "      gap: 12px;\n",
              "    }\n",
              "\n",
              "    .colab-df-convert {\n",
              "      background-color: #E8F0FE;\n",
              "      border: none;\n",
              "      border-radius: 50%;\n",
              "      cursor: pointer;\n",
              "      display: none;\n",
              "      fill: #1967D2;\n",
              "      height: 32px;\n",
              "      padding: 0 0 0 0;\n",
              "      width: 32px;\n",
              "    }\n",
              "\n",
              "    .colab-df-convert:hover {\n",
              "      background-color: #E2EBFA;\n",
              "      box-shadow: 0px 1px 2px rgba(60, 64, 67, 0.3), 0px 1px 3px 1px rgba(60, 64, 67, 0.15);\n",
              "      fill: #174EA6;\n",
              "    }\n",
              "\n",
              "    [theme=dark] .colab-df-convert {\n",
              "      background-color: #3B4455;\n",
              "      fill: #D2E3FC;\n",
              "    }\n",
              "\n",
              "    [theme=dark] .colab-df-convert:hover {\n",
              "      background-color: #434B5C;\n",
              "      box-shadow: 0px 1px 3px 1px rgba(0, 0, 0, 0.15);\n",
              "      filter: drop-shadow(0px 1px 2px rgba(0, 0, 0, 0.3));\n",
              "      fill: #FFFFFF;\n",
              "    }\n",
              "  </style>\n",
              "\n",
              "      <script>\n",
              "        const buttonEl =\n",
              "          document.querySelector('#df-e1f96f45-8d7d-424b-b6a6-99421fbcfeb1 button.colab-df-convert');\n",
              "        buttonEl.style.display =\n",
              "          google.colab.kernel.accessAllowed ? 'block' : 'none';\n",
              "\n",
              "        async function convertToInteractive(key) {\n",
              "          const element = document.querySelector('#df-e1f96f45-8d7d-424b-b6a6-99421fbcfeb1');\n",
              "          const dataTable =\n",
              "            await google.colab.kernel.invokeFunction('convertToInteractive',\n",
              "                                                     [key], {});\n",
              "          if (!dataTable) return;\n",
              "\n",
              "          const docLinkHtml = 'Like what you see? Visit the ' +\n",
              "            '<a target=\"_blank\" href=https://colab.research.google.com/notebooks/data_table.ipynb>data table notebook</a>'\n",
              "            + ' to learn more about interactive tables.';\n",
              "          element.innerHTML = '';\n",
              "          dataTable['output_type'] = 'display_data';\n",
              "          await google.colab.output.renderOutput(dataTable, element);\n",
              "          const docLink = document.createElement('div');\n",
              "          docLink.innerHTML = docLinkHtml;\n",
              "          element.appendChild(docLink);\n",
              "        }\n",
              "      </script>\n",
              "    </div>\n",
              "  </div>\n",
              "  "
            ]
          },
          "metadata": {},
          "execution_count": 121
        }
      ],
      "source": [
        "# display the descriptive statistics for the categorical columns\n",
        "df.describe(include='object')"
      ]
    },
    {
      "cell_type": "markdown",
      "metadata": {
        "id": "f8blk4xyhs2w"
      },
      "source": [
        "# **Clean the Data**"
      ]
    },
    {
      "cell_type": "markdown",
      "metadata": {
        "id": "1ArvWYrQhvUa"
      },
      "source": [
        "## **Remove Unnecessary Columns**"
      ]
    },
    {
      "cell_type": "code",
      "execution_count": 122,
      "metadata": {
        "colab": {
          "base_uri": "https://localhost:8080/"
        },
        "id": "fNP59lwCh4Hi",
        "outputId": "d46e0a8c-606f-4a06-e1ac-816991ad9305"
      },
      "outputs": [
        {
          "output_type": "stream",
          "name": "stdout",
          "text": [
            "<class 'pandas.core.frame.DataFrame'>\n",
            "RangeIndex: 36275 entries, 0 to 36274\n",
            "Data columns (total 19 columns):\n",
            " #   Column                                Non-Null Count  Dtype  \n",
            "---  ------                                --------------  -----  \n",
            " 0   Booking_ID                            36275 non-null  object \n",
            " 1   no_of_adults                          36275 non-null  int64  \n",
            " 2   no_of_children                        36275 non-null  int64  \n",
            " 3   no_of_weekend_nights                  36275 non-null  int64  \n",
            " 4   no_of_week_nights                     36275 non-null  int64  \n",
            " 5   type_of_meal_plan                     36275 non-null  object \n",
            " 6   required_car_parking_space            36275 non-null  int64  \n",
            " 7   room_type_reserved                    36275 non-null  object \n",
            " 8   lead_time                             36275 non-null  int64  \n",
            " 9   arrival_year                          36275 non-null  int64  \n",
            " 10  arrival_month                         36275 non-null  int64  \n",
            " 11  arrival_date                          36275 non-null  int64  \n",
            " 12  market_segment_type                   36275 non-null  object \n",
            " 13  repeated_guest                        36275 non-null  int64  \n",
            " 14  no_of_previous_cancellations          36275 non-null  int64  \n",
            " 15  no_of_previous_bookings_not_canceled  36275 non-null  int64  \n",
            " 16  avg_price_per_room                    36275 non-null  float64\n",
            " 17  no_of_special_requests                36275 non-null  int64  \n",
            " 18  booking_status                        36275 non-null  object \n",
            "dtypes: float64(1), int64(13), object(5)\n",
            "memory usage: 5.3+ MB\n"
          ]
        }
      ],
      "source": [
        "# drop columns\n",
        "df.info()"
      ]
    },
    {
      "cell_type": "markdown",
      "metadata": {
        "id": "GIwyyUnMjsXv"
      },
      "source": [
        "## **Remove Unnecessary Rows**"
      ]
    },
    {
      "cell_type": "code",
      "execution_count": 123,
      "metadata": {
        "colab": {
          "base_uri": "https://localhost:8080/"
        },
        "id": "jQyDvr2qjwUl",
        "outputId": "779dd606-cc3a-4052-9188-8da6f6fcf555"
      },
      "outputs": [
        {
          "output_type": "stream",
          "name": "stdout",
          "text": [
            "There are 0 duplicate rows.\n"
          ]
        }
      ],
      "source": [
        "df.duplicated().sum()\n",
        "df.drop_duplicates(inplace=True)\n",
        "print(f'There are {df.duplicated().sum()} duplicate rows.')"
      ]
    },
    {
      "cell_type": "markdown",
      "metadata": {
        "id": "6Vj7Vfneimyc"
      },
      "source": [
        "## **Inspect Column Names for Errors**"
      ]
    },
    {
      "cell_type": "code",
      "execution_count": 124,
      "metadata": {
        "colab": {
          "base_uri": "https://localhost:8080/"
        },
        "id": "0K8dPyjcirQa",
        "outputId": "a07c3dcb-965c-4feb-d284-b216c1fb99a5"
      },
      "outputs": [
        {
          "output_type": "execute_result",
          "data": {
            "text/plain": [
              "Index(['Booking_ID', 'no_of_adults', 'no_of_children', 'no_of_weekend_nights',\n",
              "       'no_of_week_nights', 'type_of_meal_plan', 'required_car_parking_space',\n",
              "       'room_type_reserved', 'lead_time', 'arrival_year', 'arrival_month',\n",
              "       'arrival_date', 'market_segment_type', 'repeated_guest',\n",
              "       'no_of_previous_cancellations', 'no_of_previous_bookings_not_canceled',\n",
              "       'avg_price_per_room', 'no_of_special_requests', 'booking_status'],\n",
              "      dtype='object')"
            ]
          },
          "metadata": {},
          "execution_count": 124
        }
      ],
      "source": [
        "df.columns"
      ]
    },
    {
      "cell_type": "markdown",
      "metadata": {
        "id": "ZtXAkeoJivdD"
      },
      "source": [
        "## **Inspect Values for Errors**"
      ]
    },
    {
      "cell_type": "code",
      "execution_count": 125,
      "metadata": {
        "colab": {
          "base_uri": "https://localhost:8080/",
          "height": 361
        },
        "id": "lqU9csmciylm",
        "outputId": "640d82b8-263d-49a2-b135-97dde43acf27"
      },
      "outputs": [
        {
          "output_type": "execute_result",
          "data": {
            "text/plain": [
              "       no_of_adults  no_of_children  no_of_weekend_nights  no_of_week_nights  \\\n",
              "count  36275.000000    36275.000000          36275.000000       36275.000000   \n",
              "mean       1.844962        0.105279              0.810724           2.204300   \n",
              "std        0.518715        0.402648              0.870644           1.410905   \n",
              "min        0.000000        0.000000              0.000000           0.000000   \n",
              "25%        2.000000        0.000000              0.000000           1.000000   \n",
              "50%        2.000000        0.000000              1.000000           2.000000   \n",
              "75%        2.000000        0.000000              2.000000           3.000000   \n",
              "max        4.000000       10.000000              7.000000          17.000000   \n",
              "\n",
              "       required_car_parking_space     lead_time  arrival_year  arrival_month  \\\n",
              "count                36275.000000  36275.000000  36275.000000   36275.000000   \n",
              "mean                     0.030986     85.232557   2017.820427       7.423653   \n",
              "std                      0.173281     85.930817      0.383836       3.069894   \n",
              "min                      0.000000      0.000000   2017.000000       1.000000   \n",
              "25%                      0.000000     17.000000   2018.000000       5.000000   \n",
              "50%                      0.000000     57.000000   2018.000000       8.000000   \n",
              "75%                      0.000000    126.000000   2018.000000      10.000000   \n",
              "max                      1.000000    443.000000   2018.000000      12.000000   \n",
              "\n",
              "       arrival_date  repeated_guest  no_of_previous_cancellations  \\\n",
              "count  36275.000000    36275.000000                  36275.000000   \n",
              "mean      15.596995        0.025637                      0.023349   \n",
              "std        8.740447        0.158053                      0.368331   \n",
              "min        1.000000        0.000000                      0.000000   \n",
              "25%        8.000000        0.000000                      0.000000   \n",
              "50%       16.000000        0.000000                      0.000000   \n",
              "75%       23.000000        0.000000                      0.000000   \n",
              "max       31.000000        1.000000                     13.000000   \n",
              "\n",
              "       no_of_previous_bookings_not_canceled  avg_price_per_room  \\\n",
              "count                          36275.000000        36275.000000   \n",
              "mean                               0.153411          103.423539   \n",
              "std                                1.754171           35.089424   \n",
              "min                                0.000000            0.000000   \n",
              "25%                                0.000000           80.300000   \n",
              "50%                                0.000000           99.450000   \n",
              "75%                                0.000000          120.000000   \n",
              "max                               58.000000          540.000000   \n",
              "\n",
              "       no_of_special_requests  \n",
              "count            36275.000000  \n",
              "mean                 0.619655  \n",
              "std                  0.786236  \n",
              "min                  0.000000  \n",
              "25%                  0.000000  \n",
              "50%                  0.000000  \n",
              "75%                  1.000000  \n",
              "max                  5.000000  "
            ],
            "text/html": [
              "\n",
              "  <div id=\"df-d4989b99-c41f-4a4a-aca8-214f05d9da4b\">\n",
              "    <div class=\"colab-df-container\">\n",
              "      <div>\n",
              "<style scoped>\n",
              "    .dataframe tbody tr th:only-of-type {\n",
              "        vertical-align: middle;\n",
              "    }\n",
              "\n",
              "    .dataframe tbody tr th {\n",
              "        vertical-align: top;\n",
              "    }\n",
              "\n",
              "    .dataframe thead th {\n",
              "        text-align: right;\n",
              "    }\n",
              "</style>\n",
              "<table border=\"1\" class=\"dataframe\">\n",
              "  <thead>\n",
              "    <tr style=\"text-align: right;\">\n",
              "      <th></th>\n",
              "      <th>no_of_adults</th>\n",
              "      <th>no_of_children</th>\n",
              "      <th>no_of_weekend_nights</th>\n",
              "      <th>no_of_week_nights</th>\n",
              "      <th>required_car_parking_space</th>\n",
              "      <th>lead_time</th>\n",
              "      <th>arrival_year</th>\n",
              "      <th>arrival_month</th>\n",
              "      <th>arrival_date</th>\n",
              "      <th>repeated_guest</th>\n",
              "      <th>no_of_previous_cancellations</th>\n",
              "      <th>no_of_previous_bookings_not_canceled</th>\n",
              "      <th>avg_price_per_room</th>\n",
              "      <th>no_of_special_requests</th>\n",
              "    </tr>\n",
              "  </thead>\n",
              "  <tbody>\n",
              "    <tr>\n",
              "      <th>count</th>\n",
              "      <td>36275.000000</td>\n",
              "      <td>36275.000000</td>\n",
              "      <td>36275.000000</td>\n",
              "      <td>36275.000000</td>\n",
              "      <td>36275.000000</td>\n",
              "      <td>36275.000000</td>\n",
              "      <td>36275.000000</td>\n",
              "      <td>36275.000000</td>\n",
              "      <td>36275.000000</td>\n",
              "      <td>36275.000000</td>\n",
              "      <td>36275.000000</td>\n",
              "      <td>36275.000000</td>\n",
              "      <td>36275.000000</td>\n",
              "      <td>36275.000000</td>\n",
              "    </tr>\n",
              "    <tr>\n",
              "      <th>mean</th>\n",
              "      <td>1.844962</td>\n",
              "      <td>0.105279</td>\n",
              "      <td>0.810724</td>\n",
              "      <td>2.204300</td>\n",
              "      <td>0.030986</td>\n",
              "      <td>85.232557</td>\n",
              "      <td>2017.820427</td>\n",
              "      <td>7.423653</td>\n",
              "      <td>15.596995</td>\n",
              "      <td>0.025637</td>\n",
              "      <td>0.023349</td>\n",
              "      <td>0.153411</td>\n",
              "      <td>103.423539</td>\n",
              "      <td>0.619655</td>\n",
              "    </tr>\n",
              "    <tr>\n",
              "      <th>std</th>\n",
              "      <td>0.518715</td>\n",
              "      <td>0.402648</td>\n",
              "      <td>0.870644</td>\n",
              "      <td>1.410905</td>\n",
              "      <td>0.173281</td>\n",
              "      <td>85.930817</td>\n",
              "      <td>0.383836</td>\n",
              "      <td>3.069894</td>\n",
              "      <td>8.740447</td>\n",
              "      <td>0.158053</td>\n",
              "      <td>0.368331</td>\n",
              "      <td>1.754171</td>\n",
              "      <td>35.089424</td>\n",
              "      <td>0.786236</td>\n",
              "    </tr>\n",
              "    <tr>\n",
              "      <th>min</th>\n",
              "      <td>0.000000</td>\n",
              "      <td>0.000000</td>\n",
              "      <td>0.000000</td>\n",
              "      <td>0.000000</td>\n",
              "      <td>0.000000</td>\n",
              "      <td>0.000000</td>\n",
              "      <td>2017.000000</td>\n",
              "      <td>1.000000</td>\n",
              "      <td>1.000000</td>\n",
              "      <td>0.000000</td>\n",
              "      <td>0.000000</td>\n",
              "      <td>0.000000</td>\n",
              "      <td>0.000000</td>\n",
              "      <td>0.000000</td>\n",
              "    </tr>\n",
              "    <tr>\n",
              "      <th>25%</th>\n",
              "      <td>2.000000</td>\n",
              "      <td>0.000000</td>\n",
              "      <td>0.000000</td>\n",
              "      <td>1.000000</td>\n",
              "      <td>0.000000</td>\n",
              "      <td>17.000000</td>\n",
              "      <td>2018.000000</td>\n",
              "      <td>5.000000</td>\n",
              "      <td>8.000000</td>\n",
              "      <td>0.000000</td>\n",
              "      <td>0.000000</td>\n",
              "      <td>0.000000</td>\n",
              "      <td>80.300000</td>\n",
              "      <td>0.000000</td>\n",
              "    </tr>\n",
              "    <tr>\n",
              "      <th>50%</th>\n",
              "      <td>2.000000</td>\n",
              "      <td>0.000000</td>\n",
              "      <td>1.000000</td>\n",
              "      <td>2.000000</td>\n",
              "      <td>0.000000</td>\n",
              "      <td>57.000000</td>\n",
              "      <td>2018.000000</td>\n",
              "      <td>8.000000</td>\n",
              "      <td>16.000000</td>\n",
              "      <td>0.000000</td>\n",
              "      <td>0.000000</td>\n",
              "      <td>0.000000</td>\n",
              "      <td>99.450000</td>\n",
              "      <td>0.000000</td>\n",
              "    </tr>\n",
              "    <tr>\n",
              "      <th>75%</th>\n",
              "      <td>2.000000</td>\n",
              "      <td>0.000000</td>\n",
              "      <td>2.000000</td>\n",
              "      <td>3.000000</td>\n",
              "      <td>0.000000</td>\n",
              "      <td>126.000000</td>\n",
              "      <td>2018.000000</td>\n",
              "      <td>10.000000</td>\n",
              "      <td>23.000000</td>\n",
              "      <td>0.000000</td>\n",
              "      <td>0.000000</td>\n",
              "      <td>0.000000</td>\n",
              "      <td>120.000000</td>\n",
              "      <td>1.000000</td>\n",
              "    </tr>\n",
              "    <tr>\n",
              "      <th>max</th>\n",
              "      <td>4.000000</td>\n",
              "      <td>10.000000</td>\n",
              "      <td>7.000000</td>\n",
              "      <td>17.000000</td>\n",
              "      <td>1.000000</td>\n",
              "      <td>443.000000</td>\n",
              "      <td>2018.000000</td>\n",
              "      <td>12.000000</td>\n",
              "      <td>31.000000</td>\n",
              "      <td>1.000000</td>\n",
              "      <td>13.000000</td>\n",
              "      <td>58.000000</td>\n",
              "      <td>540.000000</td>\n",
              "      <td>5.000000</td>\n",
              "    </tr>\n",
              "  </tbody>\n",
              "</table>\n",
              "</div>\n",
              "      <button class=\"colab-df-convert\" onclick=\"convertToInteractive('df-d4989b99-c41f-4a4a-aca8-214f05d9da4b')\"\n",
              "              title=\"Convert this dataframe to an interactive table.\"\n",
              "              style=\"display:none;\">\n",
              "        \n",
              "  <svg xmlns=\"http://www.w3.org/2000/svg\" height=\"24px\"viewBox=\"0 0 24 24\"\n",
              "       width=\"24px\">\n",
              "    <path d=\"M0 0h24v24H0V0z\" fill=\"none\"/>\n",
              "    <path d=\"M18.56 5.44l.94 2.06.94-2.06 2.06-.94-2.06-.94-.94-2.06-.94 2.06-2.06.94zm-11 1L8.5 8.5l.94-2.06 2.06-.94-2.06-.94L8.5 2.5l-.94 2.06-2.06.94zm10 10l.94 2.06.94-2.06 2.06-.94-2.06-.94-.94-2.06-.94 2.06-2.06.94z\"/><path d=\"M17.41 7.96l-1.37-1.37c-.4-.4-.92-.59-1.43-.59-.52 0-1.04.2-1.43.59L10.3 9.45l-7.72 7.72c-.78.78-.78 2.05 0 2.83L4 21.41c.39.39.9.59 1.41.59.51 0 1.02-.2 1.41-.59l7.78-7.78 2.81-2.81c.8-.78.8-2.07 0-2.86zM5.41 20L4 18.59l7.72-7.72 1.47 1.35L5.41 20z\"/>\n",
              "  </svg>\n",
              "      </button>\n",
              "      \n",
              "  <style>\n",
              "    .colab-df-container {\n",
              "      display:flex;\n",
              "      flex-wrap:wrap;\n",
              "      gap: 12px;\n",
              "    }\n",
              "\n",
              "    .colab-df-convert {\n",
              "      background-color: #E8F0FE;\n",
              "      border: none;\n",
              "      border-radius: 50%;\n",
              "      cursor: pointer;\n",
              "      display: none;\n",
              "      fill: #1967D2;\n",
              "      height: 32px;\n",
              "      padding: 0 0 0 0;\n",
              "      width: 32px;\n",
              "    }\n",
              "\n",
              "    .colab-df-convert:hover {\n",
              "      background-color: #E2EBFA;\n",
              "      box-shadow: 0px 1px 2px rgba(60, 64, 67, 0.3), 0px 1px 3px 1px rgba(60, 64, 67, 0.15);\n",
              "      fill: #174EA6;\n",
              "    }\n",
              "\n",
              "    [theme=dark] .colab-df-convert {\n",
              "      background-color: #3B4455;\n",
              "      fill: #D2E3FC;\n",
              "    }\n",
              "\n",
              "    [theme=dark] .colab-df-convert:hover {\n",
              "      background-color: #434B5C;\n",
              "      box-shadow: 0px 1px 3px 1px rgba(0, 0, 0, 0.15);\n",
              "      filter: drop-shadow(0px 1px 2px rgba(0, 0, 0, 0.3));\n",
              "      fill: #FFFFFF;\n",
              "    }\n",
              "  </style>\n",
              "\n",
              "      <script>\n",
              "        const buttonEl =\n",
              "          document.querySelector('#df-d4989b99-c41f-4a4a-aca8-214f05d9da4b button.colab-df-convert');\n",
              "        buttonEl.style.display =\n",
              "          google.colab.kernel.accessAllowed ? 'block' : 'none';\n",
              "\n",
              "        async function convertToInteractive(key) {\n",
              "          const element = document.querySelector('#df-d4989b99-c41f-4a4a-aca8-214f05d9da4b');\n",
              "          const dataTable =\n",
              "            await google.colab.kernel.invokeFunction('convertToInteractive',\n",
              "                                                     [key], {});\n",
              "          if (!dataTable) return;\n",
              "\n",
              "          const docLinkHtml = 'Like what you see? Visit the ' +\n",
              "            '<a target=\"_blank\" href=https://colab.research.google.com/notebooks/data_table.ipynb>data table notebook</a>'\n",
              "            + ' to learn more about interactive tables.';\n",
              "          element.innerHTML = '';\n",
              "          dataTable['output_type'] = 'display_data';\n",
              "          await google.colab.output.renderOutput(dataTable, element);\n",
              "          const docLink = document.createElement('div');\n",
              "          docLink.innerHTML = docLinkHtml;\n",
              "          element.appendChild(docLink);\n",
              "        }\n",
              "      </script>\n",
              "    </div>\n",
              "  </div>\n",
              "  "
            ]
          },
          "metadata": {},
          "execution_count": 125
        }
      ],
      "source": [
        "df.describe(include='number')"
      ]
    },
    {
      "cell_type": "markdown",
      "metadata": {
        "id": "ns6TAaUfjMne"
      },
      "source": [
        "## **Missing Values**"
      ]
    },
    {
      "cell_type": "code",
      "execution_count": 126,
      "metadata": {
        "colab": {
          "base_uri": "https://localhost:8080/"
        },
        "id": "Zw-pAPlPjPoK",
        "outputId": "9ed50c81-4aec-4a9c-bd50-94603bf43f69"
      },
      "outputs": [
        {
          "output_type": "stream",
          "name": "stdout",
          "text": [
            "There are 0 missing values.\n"
          ]
        }
      ],
      "source": [
        "# Display the total number of missing values \n",
        "print(f'There are {df.isna().sum().sum()} missing values.')"
      ]
    },
    {
      "cell_type": "code",
      "execution_count": 127,
      "metadata": {
        "colab": {
          "base_uri": "https://localhost:8080/"
        },
        "id": "v8H1efvD8wY9",
        "outputId": "fa704126-9201-4aae-8b86-2780ddc3f978"
      },
      "outputs": [
        {
          "output_type": "execute_result",
          "data": {
            "text/plain": [
              "Booking_ID                              0.0\n",
              "no_of_adults                            0.0\n",
              "no_of_children                          0.0\n",
              "no_of_weekend_nights                    0.0\n",
              "no_of_week_nights                       0.0\n",
              "type_of_meal_plan                       0.0\n",
              "required_car_parking_space              0.0\n",
              "room_type_reserved                      0.0\n",
              "lead_time                               0.0\n",
              "arrival_year                            0.0\n",
              "arrival_month                           0.0\n",
              "arrival_date                            0.0\n",
              "market_segment_type                     0.0\n",
              "repeated_guest                          0.0\n",
              "no_of_previous_cancellations            0.0\n",
              "no_of_previous_bookings_not_canceled    0.0\n",
              "avg_price_per_room                      0.0\n",
              "no_of_special_requests                  0.0\n",
              "booking_status                          0.0\n",
              "dtype: float64"
            ]
          },
          "metadata": {},
          "execution_count": 127
        }
      ],
      "source": [
        "#Checking null percentage\n",
        "df.isnull().mean()*100"
      ]
    },
    {
      "cell_type": "markdown",
      "metadata": {
        "id": "9WgL7EkFmlQf"
      },
      "source": [
        "# **Visualization**"
      ]
    },
    {
      "cell_type": "code",
      "execution_count": 128,
      "metadata": {
        "colab": {
          "base_uri": "https://localhost:8080/"
        },
        "id": "-vurFmPfnu20",
        "outputId": "3e0c7cee-e45e-41e7-aaed-bf8d88bd7138"
      },
      "outputs": [
        {
          "output_type": "stream",
          "name": "stdout",
          "text": [
            "<class 'pandas.core.frame.DataFrame'>\n",
            "Int64Index: 36275 entries, 0 to 36274\n",
            "Data columns (total 19 columns):\n",
            " #   Column                                Non-Null Count  Dtype  \n",
            "---  ------                                --------------  -----  \n",
            " 0   Booking_ID                            36275 non-null  object \n",
            " 1   no_of_adults                          36275 non-null  int64  \n",
            " 2   no_of_children                        36275 non-null  int64  \n",
            " 3   no_of_weekend_nights                  36275 non-null  int64  \n",
            " 4   no_of_week_nights                     36275 non-null  int64  \n",
            " 5   type_of_meal_plan                     36275 non-null  object \n",
            " 6   required_car_parking_space            36275 non-null  int64  \n",
            " 7   room_type_reserved                    36275 non-null  object \n",
            " 8   lead_time                             36275 non-null  int64  \n",
            " 9   arrival_year                          36275 non-null  int64  \n",
            " 10  arrival_month                         36275 non-null  int64  \n",
            " 11  arrival_date                          36275 non-null  int64  \n",
            " 12  market_segment_type                   36275 non-null  object \n",
            " 13  repeated_guest                        36275 non-null  int64  \n",
            " 14  no_of_previous_cancellations          36275 non-null  int64  \n",
            " 15  no_of_previous_bookings_not_canceled  36275 non-null  int64  \n",
            " 16  avg_price_per_room                    36275 non-null  float64\n",
            " 17  no_of_special_requests                36275 non-null  int64  \n",
            " 18  booking_status                        36275 non-null  object \n",
            "dtypes: float64(1), int64(13), object(5)\n",
            "memory usage: 5.5+ MB\n"
          ]
        }
      ],
      "source": [
        "df.info()"
      ]
    },
    {
      "cell_type": "markdown",
      "metadata": {
        "id": "lK7Qmje6jZ6F"
      },
      "source": [
        "### **Univariate Visuals**"
      ]
    },
    {
      "cell_type": "code",
      "execution_count": 129,
      "metadata": {
        "colab": {
          "base_uri": "https://localhost:8080/",
          "height": 225
        },
        "id": "ceoLGHHU9DaU",
        "outputId": "7d2e92bd-f2ff-4bbb-b657-bd9b8194a780"
      },
      "outputs": [
        {
          "output_type": "display_data",
          "data": {
            "text/plain": [
              "<Figure size 720x216 with 2 Axes>"
            ],
            "image/png": "[encoded data removed]"
          },
          "metadata": {
            "needs_background": "light"
          }
        }
      ],
      "source": [
        "# a chart for distribution of the target variable\n",
        "fig = plt.figure(figsize=(10,3))\n",
        "fig.add_subplot(1,2,1)\n",
        "a = df['booking_status'].value_counts(normalize=True).plot.pie()\n",
        "fig.add_subplot(1,2,2)\n",
        "churnchart=sns.countplot(x=df['booking_status'])\n",
        "plt.tight_layout()\n",
        "plt.show()"
      ]
    },
    {
      "cell_type": "markdown",
      "metadata": {
        "id": "rv0H_U4gne_C"
      },
      "source": [
        "The two classes were not distributed evenly so the data may be imbalanced. It seems there are more people who didn't cancel. We will see why customer who did cancel their reservation. "
      ]
    },
    {
      "cell_type": "code",
      "execution_count": 130,
      "metadata": {
        "colab": {
          "base_uri": "https://localhost:8080/"
        },
        "id": "Oltrv7XzoPUb",
        "outputId": "8c192c1f-d974-4d8a-dc80-07c4453a958f"
      },
      "outputs": [
        {
          "output_type": "execute_result",
          "data": {
            "text/plain": [
              "Not_Canceled    24390\n",
              "Canceled        11885\n",
              "Name: booking_status, dtype: int64"
            ]
          },
          "metadata": {},
          "execution_count": 130
        }
      ],
      "source": [
        "df['booking_status'].value_counts()\n",
        "#df['booking_status'].replace({'Canceled':1,'Not_Canceled':0}, inplace=True)\n",
        "df['booking_status'].value_counts()\n"
      ]
    },
    {
      "cell_type": "code",
      "execution_count": 131,
      "metadata": {
        "colab": {
          "base_uri": "https://localhost:8080/",
          "height": 303
        },
        "id": "lo1SmE73n-V-",
        "outputId": "5993c869-0441-47a8-a3ad-db86e7e818f2"
      },
      "outputs": [
        {
          "output_type": "execute_result",
          "data": {
            "text/plain": [
              "Text(0.5, 1.0, 'Number of Adults and Children')"
            ]
          },
          "metadata": {},
          "execution_count": 131
        },
        {
          "output_type": "display_data",
          "data": {
            "text/plain": [
              "<Figure size 432x288 with 1 Axes>"
            ],
            "image/png": "[encoded data removed]"
          },
          "metadata": {
            "needs_background": "light"
          }
        }
      ],
      "source": [
        "fig, ax = plt.subplots()\n",
        "ax.bar(np.arange(2), [df['no_of_adults'].sum(), df['no_of_children'].sum()], width=0.5)\n",
        "plt.xticks(np.arange(2), ('no_of_adults','no_of_children'))\n",
        "plt.title('Number of Adults and Children', fontsize=18)"
      ]
    },
    {
      "cell_type": "markdown",
      "metadata": {
        "id": "xS12Ih6uo9DI"
      },
      "source": [
        "More adults has booked a room than children. "
      ]
    },
    {
      "cell_type": "markdown",
      "metadata": {
        "id": "M3xnhmN0qLpR"
      },
      "source": [
        "Room Type 6 is the most expensive one, followed by Room Type 7.  Room Type 2 or Type 3 is the cheapest one. "
      ]
    },
    {
      "cell_type": "code",
      "execution_count": 132,
      "metadata": {
        "colab": {
          "base_uri": "https://localhost:8080/",
          "height": 298
        },
        "id": "oe421S-VjthO",
        "outputId": "7552a8ef-7491-4620-c1f2-60870e525abb"
      },
      "outputs": [
        {
          "output_type": "execute_result",
          "data": {
            "text/plain": [
              "Text(0.5, 1.0, 'Booking Distribution by the days of Months')"
            ]
          },
          "metadata": {},
          "execution_count": 132
        },
        {
          "output_type": "display_data",
          "data": {
            "text/plain": [
              "<Figure size 432x288 with 1 Axes>"
            ],
            "image/png": "[encoded data removed]"
          },
          "metadata": {
            "needs_background": "light"
          }
        }
      ],
      "source": [
        "plt.plot(df['arrival_date'].value_counts().sort_index().values)\n",
        "plt.title('Booking Distribution by the days of Months')"
      ]
    },
    {
      "cell_type": "code",
      "execution_count": 133,
      "metadata": {
        "colab": {
          "base_uri": "https://localhost:8080/",
          "height": 369
        },
        "id": "_Kc--ifhkhms",
        "outputId": "3cd05691-592c-4fb8-d7ae-fbfc7d34c3c4"
      },
      "outputs": [
        {
          "output_type": "stream",
          "name": "stderr",
          "text": [
            "/usr/local/lib/python3.8/dist-packages/seaborn/_decorators.py:36: FutureWarning: Pass the following variable as a keyword arg: x. From version 0.12, the only valid positional argument will be `data`, and passing other arguments without an explicit keyword will result in an error or misinterpretation.\n",
            "  warnings.warn(\n"
          ]
        },
        {
          "output_type": "execute_result",
          "data": {
            "text/plain": [
              "Text(0.5, 1.0, 'Number of Bookings by Year')"
            ]
          },
          "metadata": {},
          "execution_count": 133
        },
        {
          "output_type": "display_data",
          "data": {
            "text/plain": [
              "<Figure size 432x288 with 1 Axes>"
            ],
            "image/png": "[encoded data removed]"
          },
          "metadata": {
            "needs_background": "light"
          }
        }
      ],
      "source": [
        "ax = sns.countplot(df['arrival_year'], palette=sns.cubehelix_palette(2))\n",
        "plt.title('Number of Bookings by Year', fontsize=15)"
      ]
    },
    {
      "cell_type": "markdown",
      "metadata": {
        "id": "Q56uiV-nls94"
      },
      "source": [
        "- Our samples are mostly in 2018. "
      ]
    },
    {
      "cell_type": "code",
      "execution_count": 134,
      "metadata": {
        "colab": {
          "base_uri": "https://localhost:8080/",
          "height": 611
        },
        "id": "RZ3z0mO6stMy",
        "outputId": "7d0c84cd-a980-44ea-8492-c2cd30065f06"
      },
      "outputs": [
        {
          "output_type": "stream",
          "name": "stderr",
          "text": [
            "/usr/local/lib/python3.8/dist-packages/seaborn/_decorators.py:36: FutureWarning: Pass the following variable as a keyword arg: x. From version 0.12, the only valid positional argument will be `data`, and passing other arguments without an explicit keyword will result in an error or misinterpretation.\n",
            "  warnings.warn(\n"
          ]
        },
        {
          "output_type": "execute_result",
          "data": {
            "text/plain": [
              "Text(0.5, 1.0, 'Cancelation Situation by Months')"
            ]
          },
          "metadata": {},
          "execution_count": 134
        },
        {
          "output_type": "display_data",
          "data": {
            "text/plain": [
              "<Figure size 1440x720 with 1 Axes>"
            ],
            "image/png": "[encoded data removed]"
          },
          "metadata": {
            "needs_background": "light"
          }
        }
      ],
      "source": [
        "plt.figure(figsize=(20,10))\n",
        "sns.countplot(df[\"arrival_month\"], hue=df[\"booking_status\"])\n",
        "plt.xticks(np.arange(0,12),[\"January\", \"february\", \"March\", \"April\",\"May\",\"June\",\n",
        "\"July\",\"August\",\"September\",\"October\",\"November\",\"December\"])\n",
        "plt.title(\"Cancelation Situation by Months\")"
      ]
    },
    {
      "cell_type": "code",
      "execution_count": 135,
      "metadata": {
        "colab": {
          "base_uri": "https://localhost:8080/",
          "height": 474
        },
        "id": "xdf6dBKHr2QT",
        "outputId": "b0885321-033f-401c-a09a-b5c2aef2db35"
      },
      "outputs": [
        {
          "output_type": "stream",
          "name": "stderr",
          "text": [
            "/usr/local/lib/python3.8/dist-packages/seaborn/_decorators.py:36: FutureWarning: Pass the following variable as a keyword arg: x. From version 0.12, the only valid positional argument will be `data`, and passing other arguments without an explicit keyword will result in an error or misinterpretation.\n",
            "  warnings.warn(\n"
          ]
        },
        {
          "output_type": "execute_result",
          "data": {
            "text/plain": [
              "Text(0.5, 1.0, 'Number of Special Request - Cancellation')"
            ]
          },
          "metadata": {},
          "execution_count": 135
        },
        {
          "output_type": "display_data",
          "data": {
            "text/plain": [
              "<Figure size 720x432 with 1 Axes>"
            ],
            "image/png": "[encoded data removed]"
          },
          "metadata": {
            "needs_background": "light"
          }
        }
      ],
      "source": [
        "plt.figure(figsize=(10,6))\n",
        "sns.countplot(df['no_of_special_requests'], hue=df['booking_status'])\n",
        "plt.title('Number of Special Request - Cancellation', fontsize=10)"
      ]
    },
    {
      "cell_type": "markdown",
      "metadata": {
        "id": "rdlSrdeLuvRI"
      },
      "source": [
        "This chart shows that the cancelation rate is higher for the guests who didn have a special request. \n",
        "\n"
      ]
    },
    {
      "cell_type": "code",
      "execution_count": 136,
      "metadata": {
        "colab": {
          "base_uri": "https://localhost:8080/"
        },
        "id": "_gt37w7Kllxx",
        "outputId": "adfb823d-8ae0-42fd-fbd8-c6a79d9da398"
      },
      "outputs": [
        {
          "output_type": "execute_result",
          "data": {
            "text/plain": [
              "repeated_guest  booking_status\n",
              "0               Not_Canceled      23476\n",
              "                Canceled          11869\n",
              "1               Not_Canceled        914\n",
              "                Canceled             16\n",
              "Name: booking_status, dtype: int64"
            ]
          },
          "metadata": {},
          "execution_count": 136
        }
      ],
      "source": [
        "df.groupby('repeated_guest')['booking_status'].value_counts()"
      ]
    },
    {
      "cell_type": "markdown",
      "metadata": {
        "id": "yRG0ySaqnR9W"
      },
      "source": [
        "- The cancelation rate is higher for not repeated guests compared to repeated ones. \n",
        "- Most of the repeated guests didn't cancel. A good sign.  "
      ]
    },
    {
      "cell_type": "markdown",
      "metadata": {
        "id": "A0B8NI-OqwKp"
      },
      "source": [
        "### **Identifying Outliers**"
      ]
    },
    {
      "cell_type": "code",
      "execution_count": 137,
      "metadata": {
        "colab": {
          "base_uri": "https://localhost:8080/",
          "height": 369
        },
        "id": "cCJGiz38R1dT",
        "outputId": "3f0591a7-2ff3-41af-f303-c812a790f715"
      },
      "outputs": [
        {
          "output_type": "display_data",
          "data": {
            "text/plain": [
              "<Figure size 720x360 with 3 Axes>"
            ],
            "image/png": "[encoded data removed]"
          },
          "metadata": {
            "needs_background": "light"
          }
        }
      ],
      "source": [
        "# visualize correlation between cancellation and other features\n",
        "fig=plt.figure(figsize=(10,5))\n",
        "fig.add_subplot(1,3,1)\n",
        "ar_6=sns.boxplot(x=df[\"booking_status\"],y=df['lead_time'])\n",
        "fig.add_subplot(1,3,2)\n",
        "ar_6=sns.boxplot(x=df[\"booking_status\"],y=df['no_of_previous_cancellations'])\n",
        "fig.add_subplot(1,3,3)\n",
        "ar_6=sns.boxplot(x=df[\"booking_status\"],y=df[\"no_of_previous_bookings_not_canceled\"])\n",
        "plt.tight_layout()\n",
        "plt.show()"
      ]
    },
    {
      "cell_type": "code",
      "execution_count": 138,
      "metadata": {
        "colab": {
          "base_uri": "https://localhost:8080/",
          "height": 365
        },
        "id": "_woai1BoS9jr",
        "outputId": "245bc042-f6f0-40a6-85ea-762d761a9308"
      },
      "outputs": [
        {
          "output_type": "stream",
          "name": "stderr",
          "text": [
            "/usr/local/lib/python3.8/dist-packages/seaborn/_decorators.py:36: FutureWarning: Pass the following variables as keyword args: x, y. From version 0.12, the only valid positional argument will be `data`, and passing other arguments without an explicit keyword will result in an error or misinterpretation.\n",
            "  warnings.warn(\n"
          ]
        },
        {
          "output_type": "execute_result",
          "data": {
            "text/plain": [
              "Text(0.5, 1.0, 'Lead Time by Cancellation')"
            ]
          },
          "metadata": {},
          "execution_count": 138
        },
        {
          "output_type": "display_data",
          "data": {
            "text/plain": [
              "<Figure size 432x288 with 1 Axes>"
            ],
            "image/png": "[encoded data removed]"
          },
          "metadata": {
            "needs_background": "light"
          }
        }
      ],
      "source": [
        "# deploying a boxplot\n",
        "sns.boxplot(df['market_segment_type'], df['lead_time'])\n",
        "plt.title('Lead Time by Cancellation', fontsize=10)"
      ]
    },
    {
      "cell_type": "markdown",
      "metadata": {
        "id": "RdwJnyADT8A3"
      },
      "source": [
        "This boxplot shows that the offline has the most lead time. The lead time is the period between the booking time and arrival date. More people reserve in person than online. Although, there are more outliers at higher counts for the online box. Could be a good insight. "
      ]
    },
    {
      "cell_type": "markdown",
      "metadata": {
        "id": "TY3B_hFcrnKs"
      },
      "source": [
        "There are outliers in this data. \n",
        "\n",
        "I can also say that as the lead time increases, the possibiity of canceling increases as well. "
      ]
    },
    {
      "cell_type": "code",
      "execution_count": 139,
      "metadata": {
        "colab": {
          "base_uri": "https://localhost:8080/",
          "height": 365
        },
        "id": "t2psTcdeT7Vu",
        "outputId": "b4496b32-6d78-4560-e9fa-e7e29e718410"
      },
      "outputs": [
        {
          "output_type": "stream",
          "name": "stderr",
          "text": [
            "/usr/local/lib/python3.8/dist-packages/seaborn/_decorators.py:36: FutureWarning: Pass the following variables as keyword args: x, y. From version 0.12, the only valid positional argument will be `data`, and passing other arguments without an explicit keyword will result in an error or misinterpretation.\n",
            "  warnings.warn(\n"
          ]
        },
        {
          "output_type": "execute_result",
          "data": {
            "text/plain": [
              "Text(0.5, 1.0, 'Adults reserving on week days')"
            ]
          },
          "metadata": {},
          "execution_count": 139
        },
        {
          "output_type": "display_data",
          "data": {
            "text/plain": [
              "<Figure size 432x288 with 1 Axes>"
            ],
            "image/png": "[encoded data removed]"
          },
          "metadata": {
            "needs_background": "light"
          }
        }
      ],
      "source": [
        "# deploying a boxplot\n",
        "sns.boxplot(df['no_of_adults'], df['no_of_week_nights'])\n",
        "plt.title('Adults reserving on week days', fontsize=10)\n"
      ]
    },
    {
      "cell_type": "markdown",
      "metadata": {
        "id": "dWmYJMr1Y_PD"
      },
      "source": [
        "Shows the count of the number of week nights for each party. "
      ]
    },
    {
      "cell_type": "code",
      "execution_count": 140,
      "metadata": {
        "colab": {
          "base_uri": "https://localhost:8080/",
          "height": 366
        },
        "id": "bdu3UYcvZTBH",
        "outputId": "4788d891-cd35-4ab7-d533-3c8faa6f67a8"
      },
      "outputs": [
        {
          "output_type": "stream",
          "name": "stderr",
          "text": [
            "/usr/local/lib/python3.8/dist-packages/seaborn/_decorators.py:36: FutureWarning: Pass the following variables as keyword args: x, y. From version 0.12, the only valid positional argument will be `data`, and passing other arguments without an explicit keyword will result in an error or misinterpretation.\n",
            "  warnings.warn(\n"
          ]
        },
        {
          "output_type": "execute_result",
          "data": {
            "text/plain": [
              "Text(0.5, 1.0, 'Booking Status by price')"
            ]
          },
          "metadata": {},
          "execution_count": 140
        },
        {
          "output_type": "display_data",
          "data": {
            "text/plain": [
              "<Figure size 432x288 with 1 Axes>"
            ],
            "image/png": "[encoded data removed]"
          },
          "metadata": {
            "needs_background": "light"
          }
        }
      ],
      "source": [
        "# deploying a boxplot\n",
        "sns.boxplot(df['booking_status'], df['avg_price_per_room'])\n",
        "plt.title('Booking Status by price', fontsize=10)"
      ]
    },
    {
      "cell_type": "markdown",
      "metadata": {
        "id": "xJt_hu-sBwuU"
      },
      "source": [
        "It seems to be equal based on the average price per room for both cancel and no cancel results. "
      ]
    },
    {
      "cell_type": "code",
      "execution_count": 141,
      "metadata": {
        "colab": {
          "base_uri": "https://localhost:8080/",
          "height": 365
        },
        "id": "SExdbIvqaaGb",
        "outputId": "7f4b51ad-a4f9-4d6b-dc03-69603b8f735a"
      },
      "outputs": [
        {
          "output_type": "stream",
          "name": "stderr",
          "text": [
            "/usr/local/lib/python3.8/dist-packages/seaborn/_decorators.py:36: FutureWarning: Pass the following variables as keyword args: x, y. From version 0.12, the only valid positional argument will be `data`, and passing other arguments without an explicit keyword will result in an error or misinterpretation.\n",
            "  warnings.warn(\n"
          ]
        },
        {
          "output_type": "execute_result",
          "data": {
            "text/plain": [
              "Text(0.5, 1.0, 'Repeated guests reserving on weekdays')"
            ]
          },
          "metadata": {},
          "execution_count": 141
        },
        {
          "output_type": "display_data",
          "data": {
            "text/plain": [
              "<Figure size 432x288 with 1 Axes>"
            ],
            "image/png": "[encoded data removed]"
          },
          "metadata": {
            "needs_background": "light"
          }
        }
      ],
      "source": [
        "# deploying a boxplot on repeated guests and number of weekened nights\n",
        "sns.boxplot(df['repeated_guest'], df['no_of_weekend_nights'])\n",
        "plt.title('Repeated guests reserving on weekdays', fontsize=10)"
      ]
    },
    {
      "cell_type": "markdown",
      "metadata": {
        "id": "2Ez8A0HGR1dV"
      },
      "source": [
        "### **Finding Correlations**"
      ]
    },
    {
      "cell_type": "code",
      "execution_count": 142,
      "metadata": {
        "colab": {
          "base_uri": "https://localhost:8080/",
          "height": 547
        },
        "id": "tJUcv33gR1dV",
        "outputId": "085c28a9-264a-42b9-eca8-de17ebb15e40"
      },
      "outputs": [
        {
          "output_type": "execute_result",
          "data": {
            "text/plain": [
              "                                      no_of_adults  no_of_children  \\\n",
              "no_of_adults                              1.000000       -0.019787   \n",
              "no_of_children                           -0.019787        1.000000   \n",
              "no_of_weekend_nights                      0.103316        0.029478   \n",
              "no_of_week_nights                         0.105622        0.024398   \n",
              "required_car_parking_space                0.011429        0.034244   \n",
              "lead_time                                 0.097287       -0.047091   \n",
              "arrival_year                              0.076719        0.045983   \n",
              "arrival_month                             0.021841       -0.003076   \n",
              "arrival_date                              0.026338        0.025482   \n",
              "repeated_guest                           -0.192277       -0.036348   \n",
              "no_of_previous_cancellations             -0.047426       -0.016390   \n",
              "no_of_previous_bookings_not_canceled     -0.119166       -0.021189   \n",
              "avg_price_per_room                        0.296886        0.337728   \n",
              "no_of_special_requests                    0.189401        0.124486   \n",
              "\n",
              "                                      no_of_weekend_nights  no_of_week_nights  \\\n",
              "no_of_adults                                      0.103316           0.105622   \n",
              "no_of_children                                    0.029478           0.024398   \n",
              "no_of_weekend_nights                              1.000000           0.179577   \n",
              "no_of_week_nights                                 0.179577           1.000000   \n",
              "required_car_parking_space                       -0.031111          -0.048784   \n",
              "lead_time                                         0.046595           0.149650   \n",
              "arrival_year                                      0.055357           0.032672   \n",
              "arrival_month                                    -0.009894           0.037376   \n",
              "arrival_date                                      0.027304          -0.009305   \n",
              "repeated_guest                                   -0.067107          -0.099764   \n",
              "no_of_previous_cancellations                     -0.020690          -0.030080   \n",
              "no_of_previous_bookings_not_canceled             -0.026312          -0.049344   \n",
              "avg_price_per_room                               -0.004525           0.022753   \n",
              "no_of_special_requests                            0.060593           0.045994   \n",
              "\n",
              "                                      required_car_parking_space  lead_time  \\\n",
              "no_of_adults                                            0.011429   0.097287   \n",
              "no_of_children                                          0.034244  -0.047091   \n",
              "no_of_weekend_nights                                   -0.031111   0.046595   \n",
              "no_of_week_nights                                      -0.048784   0.149650   \n",
              "required_car_parking_space                              1.000000  -0.066445   \n",
              "lead_time                                              -0.066445   1.000000   \n",
              "arrival_year                                            0.015684   0.143439   \n",
              "arrival_month                                          -0.015505   0.136814   \n",
              "arrival_date                                           -0.000037   0.006479   \n",
              "repeated_guest                                          0.110909  -0.135984   \n",
              "no_of_previous_cancellations                            0.027106  -0.045723   \n",
              "no_of_previous_bookings_not_canceled                    0.063810  -0.078137   \n",
              "avg_price_per_room                                      0.061304  -0.062596   \n",
              "no_of_special_requests                                  0.087922  -0.101645   \n",
              "\n",
              "                                      arrival_year  arrival_month  \\\n",
              "no_of_adults                              0.076719       0.021841   \n",
              "no_of_children                            0.045983      -0.003076   \n",
              "no_of_weekend_nights                      0.055357      -0.009894   \n",
              "no_of_week_nights                         0.032672       0.037376   \n",
              "required_car_parking_space                0.015684      -0.015505   \n",
              "lead_time                                 0.143439       0.136814   \n",
              "arrival_year                              1.000000      -0.339689   \n",
              "arrival_month                            -0.339689       1.000000   \n",
              "arrival_date                              0.018849      -0.042780   \n",
              "repeated_guest                           -0.018175       0.000341   \n",
              "no_of_previous_cancellations              0.003919      -0.038615   \n",
              "no_of_previous_bookings_not_canceled      0.026422      -0.010718   \n",
              "avg_price_per_room                        0.178605       0.054423   \n",
              "no_of_special_requests                    0.053205       0.110552   \n",
              "\n",
              "                                      arrival_date  repeated_guest  \\\n",
              "no_of_adults                              0.026338       -0.192277   \n",
              "no_of_children                            0.025482       -0.036348   \n",
              "no_of_weekend_nights                      0.027304       -0.067107   \n",
              "no_of_week_nights                        -0.009305       -0.099764   \n",
              "required_car_parking_space               -0.000037        0.110909   \n",
              "lead_time                                 0.006479       -0.135984   \n",
              "arrival_year                              0.018849       -0.018175   \n",
              "arrival_month                            -0.042780        0.000341   \n",
              "arrival_date                              1.000000       -0.015949   \n",
              "repeated_guest                           -0.015949        1.000000   \n",
              "no_of_previous_cancellations             -0.012542        0.390810   \n",
              "no_of_previous_bookings_not_canceled     -0.001498        0.539156   \n",
              "avg_price_per_room                        0.017898       -0.174900   \n",
              "no_of_special_requests                    0.018352       -0.011820   \n",
              "\n",
              "                                      no_of_previous_cancellations  \\\n",
              "no_of_adults                                             -0.047426   \n",
              "no_of_children                                           -0.016390   \n",
              "no_of_weekend_nights                                     -0.020690   \n",
              "no_of_week_nights                                        -0.030080   \n",
              "required_car_parking_space                                0.027106   \n",
              "lead_time                                                -0.045723   \n",
              "arrival_year                                              0.003919   \n",
              "arrival_month                                            -0.038615   \n",
              "arrival_date                                             -0.012542   \n",
              "repeated_guest                                            0.390810   \n",
              "no_of_previous_cancellations                              1.000000   \n",
              "no_of_previous_bookings_not_canceled                      0.468147   \n",
              "avg_price_per_room                                       -0.063340   \n",
              "no_of_special_requests                                   -0.003317   \n",
              "\n",
              "                                      no_of_previous_bookings_not_canceled  \\\n",
              "no_of_adults                                                     -0.119166   \n",
              "no_of_children                                                   -0.021189   \n",
              "no_of_weekend_nights                                             -0.026312   \n",
              "no_of_week_nights                                                -0.049344   \n",
              "required_car_parking_space                                        0.063810   \n",
              "lead_time                                                        -0.078137   \n",
              "arrival_year                                                      0.026422   \n",
              "arrival_month                                                    -0.010718   \n",
              "arrival_date                                                     -0.001498   \n",
              "repeated_guest                                                    0.539156   \n",
              "no_of_previous_cancellations                                      0.468147   \n",
              "no_of_previous_bookings_not_canceled                              1.000000   \n",
              "avg_price_per_room                                               -0.113684   \n",
              "no_of_special_requests                                            0.027377   \n",
              "\n",
              "                                      avg_price_per_room  \\\n",
              "no_of_adults                                    0.296886   \n",
              "no_of_children                                  0.337728   \n",
              "no_of_weekend_nights                           -0.004525   \n",
              "no_of_week_nights                               0.022753   \n",
              "required_car_parking_space                      0.061304   \n",
              "lead_time                                      -0.062596   \n",
              "arrival_year                                    0.178605   \n",
              "arrival_month                                   0.054423   \n",
              "arrival_date                                    0.017898   \n",
              "repeated_guest                                 -0.174900   \n",
              "no_of_previous_cancellations                   -0.063340   \n",
              "no_of_previous_bookings_not_canceled           -0.113684   \n",
              "avg_price_per_room                              1.000000   \n",
              "no_of_special_requests                          0.184381   \n",
              "\n",
              "                                      no_of_special_requests  \n",
              "no_of_adults                                        0.189401  \n",
              "no_of_children                                      0.124486  \n",
              "no_of_weekend_nights                                0.060593  \n",
              "no_of_week_nights                                   0.045994  \n",
              "required_car_parking_space                          0.087922  \n",
              "lead_time                                          -0.101645  \n",
              "arrival_year                                        0.053205  \n",
              "arrival_month                                       0.110552  \n",
              "arrival_date                                        0.018352  \n",
              "repeated_guest                                     -0.011820  \n",
              "no_of_previous_cancellations                       -0.003317  \n",
              "no_of_previous_bookings_not_canceled                0.027377  \n",
              "avg_price_per_room                                  0.184381  \n",
              "no_of_special_requests                              1.000000  "
            ],
            "text/html": [
              "\n",
              "  <div id=\"df-c1fb7ad0-aa73-4387-b48d-7f281d59e172\">\n",
              "    <div class=\"colab-df-container\">\n",
              "      <div>\n",
              "<style scoped>\n",
              "    .dataframe tbody tr th:only-of-type {\n",
              "        vertical-align: middle;\n",
              "    }\n",
              "\n",
              "    .dataframe tbody tr th {\n",
              "        vertical-align: top;\n",
              "    }\n",
              "\n",
              "    .dataframe thead th {\n",
              "        text-align: right;\n",
              "    }\n",
              "</style>\n",
              "<table border=\"1\" class=\"dataframe\">\n",
              "  <thead>\n",
              "    <tr style=\"text-align: right;\">\n",
              "      <th></th>\n",
              "      <th>no_of_adults</th>\n",
              "      <th>no_of_children</th>\n",
              "      <th>no_of_weekend_nights</th>\n",
              "      <th>no_of_week_nights</th>\n",
              "      <th>required_car_parking_space</th>\n",
              "      <th>lead_time</th>\n",
              "      <th>arrival_year</th>\n",
              "      <th>arrival_month</th>\n",
              "      <th>arrival_date</th>\n",
              "      <th>repeated_guest</th>\n",
              "      <th>no_of_previous_cancellations</th>\n",
              "      <th>no_of_previous_bookings_not_canceled</th>\n",
              "      <th>avg_price_per_room</th>\n",
              "      <th>no_of_special_requests</th>\n",
              "    </tr>\n",
              "  </thead>\n",
              "  <tbody>\n",
              "    <tr>\n",
              "      <th>no_of_adults</th>\n",
              "      <td>1.000000</td>\n",
              "      <td>-0.019787</td>\n",
              "      <td>0.103316</td>\n",
              "      <td>0.105622</td>\n",
              "      <td>0.011429</td>\n",
              "      <td>0.097287</td>\n",
              "      <td>0.076719</td>\n",
              "      <td>0.021841</td>\n",
              "      <td>0.026338</td>\n",
              "      <td>-0.192277</td>\n",
              "      <td>-0.047426</td>\n",
              "      <td>-0.119166</td>\n",
              "      <td>0.296886</td>\n",
              "      <td>0.189401</td>\n",
              "    </tr>\n",
              "    <tr>\n",
              "      <th>no_of_children</th>\n",
              "      <td>-0.019787</td>\n",
              "      <td>1.000000</td>\n",
              "      <td>0.029478</td>\n",
              "      <td>0.024398</td>\n",
              "      <td>0.034244</td>\n",
              "      <td>-0.047091</td>\n",
              "      <td>0.045983</td>\n",
              "      <td>-0.003076</td>\n",
              "      <td>0.025482</td>\n",
              "      <td>-0.036348</td>\n",
              "      <td>-0.016390</td>\n",
              "      <td>-0.021189</td>\n",
              "      <td>0.337728</td>\n",
              "      <td>0.124486</td>\n",
              "    </tr>\n",
              "    <tr>\n",
              "      <th>no_of_weekend_nights</th>\n",
              "      <td>0.103316</td>\n",
              "      <td>0.029478</td>\n",
              "      <td>1.000000</td>\n",
              "      <td>0.179577</td>\n",
              "      <td>-0.031111</td>\n",
              "      <td>0.046595</td>\n",
              "      <td>0.055357</td>\n",
              "      <td>-0.009894</td>\n",
              "      <td>0.027304</td>\n",
              "      <td>-0.067107</td>\n",
              "      <td>-0.020690</td>\n",
              "      <td>-0.026312</td>\n",
              "      <td>-0.004525</td>\n",
              "      <td>0.060593</td>\n",
              "    </tr>\n",
              "    <tr>\n",
              "      <th>no_of_week_nights</th>\n",
              "      <td>0.105622</td>\n",
              "      <td>0.024398</td>\n",
              "      <td>0.179577</td>\n",
              "      <td>1.000000</td>\n",
              "      <td>-0.048784</td>\n",
              "      <td>0.149650</td>\n",
              "      <td>0.032672</td>\n",
              "      <td>0.037376</td>\n",
              "      <td>-0.009305</td>\n",
              "      <td>-0.099764</td>\n",
              "      <td>-0.030080</td>\n",
              "      <td>-0.049344</td>\n",
              "      <td>0.022753</td>\n",
              "      <td>0.045994</td>\n",
              "    </tr>\n",
              "    <tr>\n",
              "      <th>required_car_parking_space</th>\n",
              "      <td>0.011429</td>\n",
              "      <td>0.034244</td>\n",
              "      <td>-0.031111</td>\n",
              "      <td>-0.048784</td>\n",
              "      <td>1.000000</td>\n",
              "      <td>-0.066445</td>\n",
              "      <td>0.015684</td>\n",
              "      <td>-0.015505</td>\n",
              "      <td>-0.000037</td>\n",
              "      <td>0.110909</td>\n",
              "      <td>0.027106</td>\n",
              "      <td>0.063810</td>\n",
              "      <td>0.061304</td>\n",
              "      <td>0.087922</td>\n",
              "    </tr>\n",
              "    <tr>\n",
              "      <th>lead_time</th>\n",
              "      <td>0.097287</td>\n",
              "      <td>-0.047091</td>\n",
              "      <td>0.046595</td>\n",
              "      <td>0.149650</td>\n",
              "      <td>-0.066445</td>\n",
              "      <td>1.000000</td>\n",
              "      <td>0.143439</td>\n",
              "      <td>0.136814</td>\n",
              "      <td>0.006479</td>\n",
              "      <td>-0.135984</td>\n",
              "      <td>-0.045723</td>\n",
              "      <td>-0.078137</td>\n",
              "      <td>-0.062596</td>\n",
              "      <td>-0.101645</td>\n",
              "    </tr>\n",
              "    <tr>\n",
              "      <th>arrival_year</th>\n",
              "      <td>0.076719</td>\n",
              "      <td>0.045983</td>\n",
              "      <td>0.055357</td>\n",
              "      <td>0.032672</td>\n",
              "      <td>0.015684</td>\n",
              "      <td>0.143439</td>\n",
              "      <td>1.000000</td>\n",
              "      <td>-0.339689</td>\n",
              "      <td>0.018849</td>\n",
              "      <td>-0.018175</td>\n",
              "      <td>0.003919</td>\n",
              "      <td>0.026422</td>\n",
              "      <td>0.178605</td>\n",
              "      <td>0.053205</td>\n",
              "    </tr>\n",
              "    <tr>\n",
              "      <th>arrival_month</th>\n",
              "      <td>0.021841</td>\n",
              "      <td>-0.003076</td>\n",
              "      <td>-0.009894</td>\n",
              "      <td>0.037376</td>\n",
              "      <td>-0.015505</td>\n",
              "      <td>0.136814</td>\n",
              "      <td>-0.339689</td>\n",
              "      <td>1.000000</td>\n",
              "      <td>-0.042780</td>\n",
              "      <td>0.000341</td>\n",
              "      <td>-0.038615</td>\n",
              "      <td>-0.010718</td>\n",
              "      <td>0.054423</td>\n",
              "      <td>0.110552</td>\n",
              "    </tr>\n",
              "    <tr>\n",
              "      <th>arrival_date</th>\n",
              "      <td>0.026338</td>\n",
              "      <td>0.025482</td>\n",
              "      <td>0.027304</td>\n",
              "      <td>-0.009305</td>\n",
              "      <td>-0.000037</td>\n",
              "      <td>0.006479</td>\n",
              "      <td>0.018849</td>\n",
              "      <td>-0.042780</td>\n",
              "      <td>1.000000</td>\n",
              "      <td>-0.015949</td>\n",
              "      <td>-0.012542</td>\n",
              "      <td>-0.001498</td>\n",
              "      <td>0.017898</td>\n",
              "      <td>0.018352</td>\n",
              "    </tr>\n",
              "    <tr>\n",
              "      <th>repeated_guest</th>\n",
              "      <td>-0.192277</td>\n",
              "      <td>-0.036348</td>\n",
              "      <td>-0.067107</td>\n",
              "      <td>-0.099764</td>\n",
              "      <td>0.110909</td>\n",
              "      <td>-0.135984</td>\n",
              "      <td>-0.018175</td>\n",
              "      <td>0.000341</td>\n",
              "      <td>-0.015949</td>\n",
              "      <td>1.000000</td>\n",
              "      <td>0.390810</td>\n",
              "      <td>0.539156</td>\n",
              "      <td>-0.174900</td>\n",
              "      <td>-0.011820</td>\n",
              "    </tr>\n",
              "    <tr>\n",
              "      <th>no_of_previous_cancellations</th>\n",
              "      <td>-0.047426</td>\n",
              "      <td>-0.016390</td>\n",
              "      <td>-0.020690</td>\n",
              "      <td>-0.030080</td>\n",
              "      <td>0.027106</td>\n",
              "      <td>-0.045723</td>\n",
              "      <td>0.003919</td>\n",
              "      <td>-0.038615</td>\n",
              "      <td>-0.012542</td>\n",
              "      <td>0.390810</td>\n",
              "      <td>1.000000</td>\n",
              "      <td>0.468147</td>\n",
              "      <td>-0.063340</td>\n",
              "      <td>-0.003317</td>\n",
              "    </tr>\n",
              "    <tr>\n",
              "      <th>no_of_previous_bookings_not_canceled</th>\n",
              "      <td>-0.119166</td>\n",
              "      <td>-0.021189</td>\n",
              "      <td>-0.026312</td>\n",
              "      <td>-0.049344</td>\n",
              "      <td>0.063810</td>\n",
              "      <td>-0.078137</td>\n",
              "      <td>0.026422</td>\n",
              "      <td>-0.010718</td>\n",
              "      <td>-0.001498</td>\n",
              "      <td>0.539156</td>\n",
              "      <td>0.468147</td>\n",
              "      <td>1.000000</td>\n",
              "      <td>-0.113684</td>\n",
              "      <td>0.027377</td>\n",
              "    </tr>\n",
              "    <tr>\n",
              "      <th>avg_price_per_room</th>\n",
              "      <td>0.296886</td>\n",
              "      <td>0.337728</td>\n",
              "      <td>-0.004525</td>\n",
              "      <td>0.022753</td>\n",
              "      <td>0.061304</td>\n",
              "      <td>-0.062596</td>\n",
              "      <td>0.178605</td>\n",
              "      <td>0.054423</td>\n",
              "      <td>0.017898</td>\n",
              "      <td>-0.174900</td>\n",
              "      <td>-0.063340</td>\n",
              "      <td>-0.113684</td>\n",
              "      <td>1.000000</td>\n",
              "      <td>0.184381</td>\n",
              "    </tr>\n",
              "    <tr>\n",
              "      <th>no_of_special_requests</th>\n",
              "      <td>0.189401</td>\n",
              "      <td>0.124486</td>\n",
              "      <td>0.060593</td>\n",
              "      <td>0.045994</td>\n",
              "      <td>0.087922</td>\n",
              "      <td>-0.101645</td>\n",
              "      <td>0.053205</td>\n",
              "      <td>0.110552</td>\n",
              "      <td>0.018352</td>\n",
              "      <td>-0.011820</td>\n",
              "      <td>-0.003317</td>\n",
              "      <td>0.027377</td>\n",
              "      <td>0.184381</td>\n",
              "      <td>1.000000</td>\n",
              "    </tr>\n",
              "  </tbody>\n",
              "</table>\n",
              "</div>\n",
              "      <button class=\"colab-df-convert\" onclick=\"convertToInteractive('df-c1fb7ad0-aa73-4387-b48d-7f281d59e172')\"\n",
              "              title=\"Convert this dataframe to an interactive table.\"\n",
              "              style=\"display:none;\">\n",
              "        \n",
              "  <svg xmlns=\"http://www.w3.org/2000/svg\" height=\"24px\"viewBox=\"0 0 24 24\"\n",
              "       width=\"24px\">\n",
              "    <path d=\"M0 0h24v24H0V0z\" fill=\"none\"/>\n",
              "    <path d=\"M18.56 5.44l.94 2.06.94-2.06 2.06-.94-2.06-.94-.94-2.06-.94 2.06-2.06.94zm-11 1L8.5 8.5l.94-2.06 2.06-.94-2.06-.94L8.5 2.5l-.94 2.06-2.06.94zm10 10l.94 2.06.94-2.06 2.06-.94-2.06-.94-.94-2.06-.94 2.06-2.06.94z\"/><path d=\"M17.41 7.96l-1.37-1.37c-.4-.4-.92-.59-1.43-.59-.52 0-1.04.2-1.43.59L10.3 9.45l-7.72 7.72c-.78.78-.78 2.05 0 2.83L4 21.41c.39.39.9.59 1.41.59.51 0 1.02-.2 1.41-.59l7.78-7.78 2.81-2.81c.8-.78.8-2.07 0-2.86zM5.41 20L4 18.59l7.72-7.72 1.47 1.35L5.41 20z\"/>\n",
              "  </svg>\n",
              "      </button>\n",
              "      \n",
              "  <style>\n",
              "    .colab-df-container {\n",
              "      display:flex;\n",
              "      flex-wrap:wrap;\n",
              "      gap: 12px;\n",
              "    }\n",
              "\n",
              "    .colab-df-convert {\n",
              "      background-color: #E8F0FE;\n",
              "      border: none;\n",
              "      border-radius: 50%;\n",
              "      cursor: pointer;\n",
              "      display: none;\n",
              "      fill: #1967D2;\n",
              "      height: 32px;\n",
              "      padding: 0 0 0 0;\n",
              "      width: 32px;\n",
              "    }\n",
              "\n",
              "    .colab-df-convert:hover {\n",
              "      background-color: #E2EBFA;\n",
              "      box-shadow: 0px 1px 2px rgba(60, 64, 67, 0.3), 0px 1px 3px 1px rgba(60, 64, 67, 0.15);\n",
              "      fill: #174EA6;\n",
              "    }\n",
              "\n",
              "    [theme=dark] .colab-df-convert {\n",
              "      background-color: #3B4455;\n",
              "      fill: #D2E3FC;\n",
              "    }\n",
              "\n",
              "    [theme=dark] .colab-df-convert:hover {\n",
              "      background-color: #434B5C;\n",
              "      box-shadow: 0px 1px 3px 1px rgba(0, 0, 0, 0.15);\n",
              "      filter: drop-shadow(0px 1px 2px rgba(0, 0, 0, 0.3));\n",
              "      fill: #FFFFFF;\n",
              "    }\n",
              "  </style>\n",
              "\n",
              "      <script>\n",
              "        const buttonEl =\n",
              "          document.querySelector('#df-c1fb7ad0-aa73-4387-b48d-7f281d59e172 button.colab-df-convert');\n",
              "        buttonEl.style.display =\n",
              "          google.colab.kernel.accessAllowed ? 'block' : 'none';\n",
              "\n",
              "        async function convertToInteractive(key) {\n",
              "          const element = document.querySelector('#df-c1fb7ad0-aa73-4387-b48d-7f281d59e172');\n",
              "          const dataTable =\n",
              "            await google.colab.kernel.invokeFunction('convertToInteractive',\n",
              "                                                     [key], {});\n",
              "          if (!dataTable) return;\n",
              "\n",
              "          const docLinkHtml = 'Like what you see? Visit the ' +\n",
              "            '<a target=\"_blank\" href=https://colab.research.google.com/notebooks/data_table.ipynb>data table notebook</a>'\n",
              "            + ' to learn more about interactive tables.';\n",
              "          element.innerHTML = '';\n",
              "          dataTable['output_type'] = 'display_data';\n",
              "          await google.colab.output.renderOutput(dataTable, element);\n",
              "          const docLink = document.createElement('div');\n",
              "          docLink.innerHTML = docLinkHtml;\n",
              "          element.appendChild(docLink);\n",
              "        }\n",
              "      </script>\n",
              "    </div>\n",
              "  </div>\n",
              "  "
            ]
          },
          "metadata": {},
          "execution_count": 142
        }
      ],
      "source": [
        "# identifying the correlations\n",
        "df.corr()"
      ]
    },
    {
      "cell_type": "code",
      "execution_count": 143,
      "metadata": {
        "colab": {
          "base_uri": "https://localhost:8080/",
          "height": 662
        },
        "id": "e97TV61LR1dW",
        "outputId": "bdf993a7-f7ff-48e0-c659-852cc7272565"
      },
      "outputs": [
        {
          "output_type": "display_data",
          "data": {
            "text/plain": [
              "<Figure size 1440x720 with 2 Axes>"
            ],
            "image/png": "[encoded data removed]"
          },
          "metadata": {
            "needs_background": "light"
          }
        }
      ],
      "source": [
        "# Increase the size of the heatmap.\n",
        "plt.figure(figsize=(20,10))\n",
        "# Store heatmap object in a variable to easily access it when you want to include more features (such as title).\n",
        "# Set the range of values to be displayed on the colormap from -1 to 1, and set the annotation to True to display the correlation values on the heatmap.\n",
        "heatmap = sns.heatmap(df.corr(), linewidths=3, annot=True)\n",
        "plt.title(\"Correlation plot\")\n",
        "plt.show()"
      ]
    },
    {
      "cell_type": "markdown",
      "metadata": {
        "id": "6zCoN1wDC3LZ"
      },
      "source": [
        "None of these features are highly correlated to each other, except the following: \n",
        "repeated_guest, # of previous cancellations, and # of previous bookings not cancelled.  "
      ]
    },
    {
      "cell_type": "code",
      "execution_count": 144,
      "metadata": {
        "colab": {
          "base_uri": "https://localhost:8080/",
          "height": 34
        },
        "id": "FjCXSJIgR1dW",
        "outputId": "207fde2f-20f2-4c80-9343-3c45e6bbc996"
      },
      "outputs": [
        {
          "output_type": "display_data",
          "data": {
            "text/plain": [
              "<Figure size 432x288 with 0 Axes>"
            ]
          },
          "metadata": {}
        }
      ],
      "source": [
        "# save heatmap as .png file\n",
        "# dpi - sets the resolution of the saved image in dots/inches\n",
        "# bbox_inches - when set to 'tight' - does not allow the labels to be cropped\n",
        "plt.savefig('heatmap.png', dpi=300, bbox_inches='tight')"
      ]
    },
    {
      "cell_type": "code",
      "execution_count": 145,
      "metadata": {
        "colab": {
          "base_uri": "https://localhost:8080/",
          "height": 794
        },
        "id": "Uq5cPqMvR1dW",
        "outputId": "14090483-6df1-45fe-ce00-b6e175be2473"
      },
      "outputs": [
        {
          "output_type": "execute_result",
          "data": {
            "text/plain": [
              "<AxesSubplot:>"
            ]
          },
          "metadata": {},
          "execution_count": 145
        },
        {
          "output_type": "display_data",
          "data": {
            "text/plain": [
              "<Figure size 864x720 with 2 Axes>"
            ],
            "image/png": "[encoded data removed]"
          },
          "metadata": {
            "needs_background": "light"
          }
        }
      ],
      "source": [
        "#Set up the matplotlib plot configuration\n",
        "f, ax = plt.subplots(figsize=(12, 10))\n",
        "\n",
        "mask = np.triu(np.ones_like(df.corr(), dtype=bool))\n",
        "\n",
        "cmap = sns.diverging_palette(230, 20, as_cmap=True)\n",
        "\n",
        "sns.heatmap(df.corr(), annot=True, mask = mask, cmap=cmap)"
      ]
    },
    {
      "cell_type": "markdown",
      "metadata": {
        "id": "njWsrmwkR1dX"
      },
      "source": [
        "Correlation Summary:\n",
        "- There isn't much of a correlation between the target and the feature variables.  The booking status and the lead time had a correlation of 0.44, which is pretty moderate.\n",
        "- The other important thing to note is  that there is no correlation greater than 60%. The highest was 0.54 between repeated guests and number of previous bookings not canceled.  I have a pie chart to demonstrate the cancelation chart for repeated guests. "
      ]
    },
    {
      "cell_type": "code",
      "execution_count": 146,
      "metadata": {
        "colab": {
          "base_uri": "https://localhost:8080/",
          "height": 298
        },
        "id": "ShBRFx9CR1dX",
        "outputId": "8f4b363f-537e-4abc-a844-1487cc6b989c"
      },
      "outputs": [
        {
          "output_type": "execute_result",
          "data": {
            "text/plain": [
              "Text(0.5, 1.0, 'Distribution in # of days between date of booking and arrival date')"
            ]
          },
          "metadata": {},
          "execution_count": 146
        },
        {
          "output_type": "display_data",
          "data": {
            "text/plain": [
              "<Figure size 432x288 with 1 Axes>"
            ],
            "image/png": "[encoded data removed]"
          },
          "metadata": {
            "needs_background": "light"
          }
        }
      ],
      "source": [
        "plt.plot(df['lead_time'].value_counts().sort_index().values)\n",
        "plt.title('Distribution in # of days between date of booking and arrival date')"
      ]
    },
    {
      "cell_type": "code",
      "execution_count": 147,
      "metadata": {
        "colab": {
          "base_uri": "https://localhost:8080/",
          "height": 303
        },
        "id": "tpeglAOUR1dX",
        "outputId": "d31c700e-fc97-46e7-b364-32dc7e80734e"
      },
      "outputs": [
        {
          "output_type": "display_data",
          "data": {
            "text/plain": [
              "<Figure size 720x360 with 2 Axes>"
            ],
            "image/png": "[encoded data removed]"
          },
          "metadata": {}
        }
      ],
      "source": [
        "fig, ax = plt.subplots(1, 2, figsize=(10, 5), subplot_kw={'aspect': 'equal'})\n",
        "ax[0].pie([11896,23476], labels=[\"Canceled\",\"Not Canceled\"], autopct='%1.1f%%', startangle=90)\n",
        "ax[0].set_title(\"Cancelation Rate Of Not Repeated Guest\",color=\"#b22222\",fontsize=15)\n",
        "ax[1].pie([16,914], labels=[\"Canceled\",\"Not Canceled\"], autopct='%1.1f%%', startangle=90)\n",
        "ax[1].set_title(\"Cancelation Rate Of Repeated Guest\",color=\"#b22222\",fontsize=15);"
      ]
    },
    {
      "cell_type": "markdown",
      "metadata": {
        "id": "z6cpXRxjR1dY"
      },
      "source": [
        "This pie chart displays a nice visualization that shows cancellation rates for repeated guests and not repeated guests. We can see that for repeated guests, they mostly keep their reservation. For first time guests, there is a 33% cancelation rate and 66% didn't cancel. "
      ]
    },
    {
      "cell_type": "code",
      "execution_count": 148,
      "metadata": {
        "colab": {
          "base_uri": "https://localhost:8080/",
          "height": 477
        },
        "id": "OVjD63eER1dY",
        "outputId": "418f2096-05f3-4e12-e12b-f9bbb3ad4c9e"
      },
      "outputs": [
        {
          "output_type": "stream",
          "name": "stderr",
          "text": [
            "/usr/local/lib/python3.8/dist-packages/seaborn/_decorators.py:36: FutureWarning: Pass the following variables as keyword args: x, y. From version 0.12, the only valid positional argument will be `data`, and passing other arguments without an explicit keyword will result in an error or misinterpretation.\n",
            "  warnings.warn(\n"
          ]
        },
        {
          "output_type": "execute_result",
          "data": {
            "text/plain": [
              "Text(0.5, 1.0, 'Average Prices of Each Room Types')"
            ]
          },
          "metadata": {},
          "execution_count": 148
        },
        {
          "output_type": "display_data",
          "data": {
            "text/plain": [
              "<Figure size 720x432 with 1 Axes>"
            ],
            "image/png": "[encoded data removed]"
          },
          "metadata": {
            "needs_background": "light"
          }
        }
      ],
      "source": [
        "plt.figure(figsize=(10,6))\n",
        "ax =  sns.barplot(df['room_type_reserved'], df['avg_price_per_room'])\n",
        "plt.title('Average Prices of Each Room Types')"
      ]
    },
    {
      "cell_type": "markdown",
      "metadata": {
        "id": "k7f8n8lwR1dY"
      },
      "source": [
        "This shows the average prices for each room types.  The most expensive room was Room Type 6, $177.  Room Type 7 was also one of the popular options as wel. Room Type 3 had the lowest average price. "
      ]
    },
    {
      "cell_type": "code",
      "execution_count": 149,
      "metadata": {
        "colab": {
          "base_uri": "https://localhost:8080/"
        },
        "id": "67wlxIZ8DSun",
        "outputId": "1e9a9314-71ec-4451-cbac-3d49f1a893e5"
      },
      "outputs": [
        {
          "output_type": "execute_result",
          "data": {
            "text/plain": [
              "1    27835\n",
              "0     5130\n",
              "2     3305\n",
              "3        5\n",
              "Name: type_of_meal_plan, dtype: int64"
            ]
          },
          "metadata": {},
          "execution_count": 149
        }
      ],
      "source": [
        "# ordinal encoding for 'type of meal plan'\n",
        "df['type_of_meal_plan'].value_counts()\n",
        "df['type_of_meal_plan'] = df['type_of_meal_plan'].replace({'Meal Plan 1':1, 'Meal Plan 2':2,'Meal Plan 3':3,'Not Selected':0})\n",
        "df['type_of_meal_plan'].value_counts()"
      ]
    },
    {
      "cell_type": "code",
      "execution_count": 150,
      "metadata": {
        "colab": {
          "base_uri": "https://localhost:8080/"
        },
        "id": "ThOTtISLLN9k",
        "outputId": "51bb4b67-b134-49c6-8b7c-e7c118444c1d"
      },
      "outputs": [
        {
          "output_type": "execute_result",
          "data": {
            "text/plain": [
              "1    28130\n",
              "4     6057\n",
              "6      966\n",
              "2      692\n",
              "5      265\n",
              "7      158\n",
              "3        7\n",
              "Name: room_type_reserved, dtype: int64"
            ]
          },
          "metadata": {},
          "execution_count": 150
        }
      ],
      "source": [
        "# ordinal encoding for 'room_type_reserved'\n",
        "df['room_type_reserved'].value_counts()\n",
        "df['room_type_reserved'] = df['room_type_reserved'].replace({'Room_Type 1':1, 'Room_Type 2':2,'Room_Type 3':3,'Room_Type 4':4,'Room_Type 5':5,\n",
        "                                                             'Room_Type 6':6,'Room_Type 7':7})\n",
        "df['room_type_reserved'].value_counts()"
      ]
    },
    {
      "cell_type": "code",
      "execution_count": 151,
      "metadata": {
        "colab": {
          "base_uri": "https://localhost:8080/"
        },
        "id": "8kGoduF6MBDd",
        "outputId": "35817086-aee2-42b0-8060-af21982fd769"
      },
      "outputs": [
        {
          "output_type": "execute_result",
          "data": {
            "text/plain": [
              "1    23214\n",
              "2    10528\n",
              "3     2017\n",
              "4      391\n",
              "5      125\n",
              "Name: market_segment_type, dtype: int64"
            ]
          },
          "metadata": {},
          "execution_count": 151
        }
      ],
      "source": [
        "df['market_segment_type'].value_counts()\n",
        "df['market_segment_type'] = df['market_segment_type'].replace({'Online':1, 'Offline':2,'Corporate':3,'Complementary':4,'Aviation':5})\n",
        "df['market_segment_type'].value_counts()\n"
      ]
    },
    {
      "cell_type": "code",
      "execution_count": 152,
      "metadata": {
        "colab": {
          "base_uri": "https://localhost:8080/"
        },
        "id": "NbyavZE9Ybez",
        "outputId": "d3cfafde-53f2-4220-a594-3d537d21c6a5"
      },
      "outputs": [
        {
          "output_type": "execute_result",
          "data": {
            "text/plain": [
              "0    24390\n",
              "1    11885\n",
              "Name: booking_status, dtype: int64"
            ]
          },
          "metadata": {},
          "execution_count": 152
        }
      ],
      "source": [
        "# ordinal encoding for 'booking tatus'\n",
        "df['booking_status'].value_counts()\n",
        "df['booking_status'] = df['booking_status'].replace({'Canceled':1,'Not_Canceled':0})\n",
        "df['booking_status'].value_counts()"
      ]
    },
    {
      "cell_type": "code",
      "execution_count": 153,
      "metadata": {
        "colab": {
          "base_uri": "https://localhost:8080/"
        },
        "id": "QBuDefg9KV0f",
        "outputId": "8cc11f71-1ab7-45dd-a44d-b10635e22506"
      },
      "outputs": [
        {
          "output_type": "stream",
          "name": "stdout",
          "text": [
            "<class 'pandas.core.frame.DataFrame'>\n",
            "Int64Index: 36275 entries, 0 to 36274\n",
            "Data columns (total 19 columns):\n",
            " #   Column                                Non-Null Count  Dtype  \n",
            "---  ------                                --------------  -----  \n",
            " 0   Booking_ID                            36275 non-null  object \n",
            " 1   no_of_adults                          36275 non-null  int64  \n",
            " 2   no_of_children                        36275 non-null  int64  \n",
            " 3   no_of_weekend_nights                  36275 non-null  int64  \n",
            " 4   no_of_week_nights                     36275 non-null  int64  \n",
            " 5   type_of_meal_plan                     36275 non-null  int64  \n",
            " 6   required_car_parking_space            36275 non-null  int64  \n",
            " 7   room_type_reserved                    36275 non-null  int64  \n",
            " 8   lead_time                             36275 non-null  int64  \n",
            " 9   arrival_year                          36275 non-null  int64  \n",
            " 10  arrival_month                         36275 non-null  int64  \n",
            " 11  arrival_date                          36275 non-null  int64  \n",
            " 12  market_segment_type                   36275 non-null  int64  \n",
            " 13  repeated_guest                        36275 non-null  int64  \n",
            " 14  no_of_previous_cancellations          36275 non-null  int64  \n",
            " 15  no_of_previous_bookings_not_canceled  36275 non-null  int64  \n",
            " 16  avg_price_per_room                    36275 non-null  float64\n",
            " 17  no_of_special_requests                36275 non-null  int64  \n",
            " 18  booking_status                        36275 non-null  int64  \n",
            "dtypes: float64(1), int64(17), object(1)\n",
            "memory usage: 6.5+ MB\n"
          ]
        }
      ],
      "source": [
        "df.info()"
      ]
    },
    {
      "cell_type": "markdown",
      "source": [
        "# **Model Validation Split**"
      ],
      "metadata": {
        "id": "JIKtpr1UdTt7"
      }
    },
    {
      "cell_type": "code",
      "source": [
        "df['booking_status'].value_counts(normalize=False)"
      ],
      "metadata": {
        "colab": {
          "base_uri": "https://localhost:8080/"
        },
        "id": "TgPdYA30b2_Q",
        "outputId": "24039efd-a40c-4c46-dd98-f71c2a0745b1"
      },
      "execution_count": 154,
      "outputs": [
        {
          "output_type": "execute_result",
          "data": {
            "text/plain": [
              "0    24390\n",
              "1    11885\n",
              "Name: booking_status, dtype: int64"
            ]
          },
          "metadata": {},
          "execution_count": 154
        }
      ]
    },
    {
      "cell_type": "code",
      "source": [
        "df['booking_status'].value_counts(normalize=True)"
      ],
      "metadata": {
        "colab": {
          "base_uri": "https://localhost:8080/"
        },
        "id": "OhuotYjMdaZp",
        "outputId": "7d1ae450-394d-4434-faa0-5bd360e1459d"
      },
      "execution_count": 155,
      "outputs": [
        {
          "output_type": "execute_result",
          "data": {
            "text/plain": [
              "0    0.672364\n",
              "1    0.327636\n",
              "Name: booking_status, dtype: float64"
            ]
          },
          "metadata": {},
          "execution_count": 155
        }
      ]
    },
    {
      "cell_type": "markdown",
      "metadata": {
        "id": "jscY3uwk3KTB"
      },
      "source": [
        "# **Preprocessing**"
      ]
    },
    {
      "cell_type": "code",
      "execution_count": 156,
      "metadata": {
        "id": "hfjstjuD7p_V"
      },
      "outputs": [],
      "source": [
        "# separating the feature and target column \n",
        "target = 'booking_status'\n",
        "labels = ['Not_Canceled', 'Canceled']\n",
        "\n",
        "X = df.drop(columns=[target, 'Booking_ID','no_of_children'], axis=1)\n",
        "y = df[target]"
      ]
    },
    {
      "cell_type": "code",
      "execution_count": 157,
      "metadata": {
        "id": "B4VD1n228Iu5"
      },
      "outputs": [],
      "source": [
        "# Split\n",
        "X_train,X_test,y_train,y_test = train_test_split(X,y,random_state=42)"
      ]
    },
    {
      "cell_type": "code",
      "execution_count": 158,
      "metadata": {
        "colab": {
          "base_uri": "https://localhost:8080/"
        },
        "id": "DPFQr57GLFIb",
        "outputId": "cd7f1822-5a1e-48df-c3cd-ec3418473353"
      },
      "outputs": [
        {
          "output_type": "stream",
          "name": "stdout",
          "text": [
            "train size X:  (27206, 16)\n",
            "train size y:  (27206,)\n",
            "train size X:  (9069, 16)\n",
            "train size y:  (9069,)\n"
          ]
        }
      ],
      "source": [
        "# get the shape of train and test data\n",
        "print('train size X: ',X_train.shape)\n",
        "print('train size y: ',y_train.shape)\n",
        "print('train size X: ',X_test.shape)\n",
        "print('train size y: ',y_test.shape)"
      ]
    },
    {
      "cell_type": "code",
      "source": [
        "# instantiate the column selectors\n",
        "num_selector = make_column_selector(dtype_include='number')\n",
        "cat_selector = make_column_selector(dtype_include='object')"
      ],
      "metadata": {
        "id": "Gto54eqQa2Gk"
      },
      "execution_count": 159,
      "outputs": []
    },
    {
      "cell_type": "code",
      "execution_count": 160,
      "metadata": {
        "id": "o39os_aZNsDO"
      },
      "outputs": [],
      "source": [
        "# feature scaling and one hot encoding \n",
        "scaler = StandardScaler()\n",
        "ohe = OneHotEncoder(sparse=False,handle_unknown='ignore')\n",
        "\n",
        "X_train = scaler.fit_transform(X_train)\n",
        "X_test = scaler.fit_transform(X_test)\n"
      ]
    },
    {
      "cell_type": "code",
      "source": [
        "# create tuples\n",
        "num_tuple = (scaler, num_selector)\n",
        "cat_tuple = (ohe, cat_selector)"
      ],
      "metadata": {
        "id": "5RMUhJS5bFB-"
      },
      "execution_count": 161,
      "outputs": []
    },
    {
      "cell_type": "code",
      "source": [
        "# create the preprocessor \n",
        "preproccessor = make_column_transformer(num_tuple,cat_tuple,remainder='drop')"
      ],
      "metadata": {
        "id": "Bfv285BmbQat"
      },
      "execution_count": 187,
      "outputs": []
    },
    {
      "cell_type": "markdown",
      "metadata": {
        "id": "5ONeR7cq27y-"
      },
      "source": [
        "# **Modeling**"
      ]
    },
    {
      "cell_type": "markdown",
      "metadata": {
        "id": "YB6YTILs3B3q"
      },
      "source": [
        "## **Logistic Regression Model**"
      ]
    },
    {
      "cell_type": "code",
      "execution_count": 163,
      "metadata": {
        "colab": {
          "base_uri": "https://localhost:8080/"
        },
        "id": "pcDPRHXt3Azv",
        "outputId": "362ad805-8e04-403a-b923-8c84e3acaddb"
      },
      "outputs": [
        {
          "output_type": "stream",
          "name": "stdout",
          "text": [
            "0.8047857090347718\n",
            "0.8048296394310288\n"
          ]
        }
      ],
      "source": [
        "# making an instance of a model \n",
        "logreg = LogisticRegression()\n",
        "\n",
        "# create a pipeline\n",
        "logreg_pipe = make_pipeline(scaler,logreg)\n",
        "\n",
        "# fit the log reg model\n",
        "logreg_pipe.fit(X_train,y_train)\n",
        "print(logreg_pipe.score(X_train,y_train))\n",
        "print(logreg_pipe.score(X_test,y_test))"
      ]
    },
    {
      "cell_type": "code",
      "execution_count": 164,
      "metadata": {
        "id": "U5RVkDwBWf8y"
      },
      "outputs": [],
      "source": [
        "logreg_train_preds = logreg_pipe.predict(X_train)\n",
        "logreg_test_preds = logreg_pipe.predict(X_test)"
      ]
    },
    {
      "cell_type": "markdown",
      "metadata": {
        "id": "yCXEgYfPXVlp"
      },
      "source": [
        "### **Metrics**"
      ]
    },
    {
      "cell_type": "code",
      "execution_count": 165,
      "metadata": {
        "colab": {
          "base_uri": "https://localhost:8080/"
        },
        "id": "UQCRt0VoWq7_",
        "outputId": "7c19733c-bfbc-4eb7-8fb3-6aebd07b61d4"
      },
      "outputs": [
        {
          "output_type": "stream",
          "name": "stdout",
          "text": [
            "              precision    recall  f1-score   support\n",
            "\n",
            "           0       0.82      0.90      0.86      6043\n",
            "           1       0.76      0.61      0.68      3026\n",
            "\n",
            "    accuracy                           0.80      9069\n",
            "   macro avg       0.79      0.76      0.77      9069\n",
            "weighted avg       0.80      0.80      0.80      9069\n",
            "\n"
          ]
        }
      ],
      "source": [
        "# creating multiple classification report\n",
        "print(classification_report(y_test, logreg_test_preds))"
      ]
    },
    {
      "cell_type": "code",
      "execution_count": 166,
      "metadata": {
        "colab": {
          "base_uri": "https://localhost:8080/"
        },
        "id": "OUFzTYIiZayF",
        "outputId": "55dac996-6045-42ae-b583-8f77de1aafbf"
      },
      "outputs": [
        {
          "output_type": "stream",
          "name": "stdout",
          "text": [
            "f1 score for base model is : 0.6773605541378053\n"
          ]
        }
      ],
      "source": [
        "print('f1 score for base model is :', f1_score(y_test,logreg_test_preds))"
      ]
    },
    {
      "cell_type": "markdown",
      "metadata": {
        "id": "xmpNx6fhaa10"
      },
      "source": [
        "We got a 0.68 f1-score on our model created using default parameters. \n",
        "I am going to increase my model performance and evaluate again. "
      ]
    },
    {
      "cell_type": "code",
      "execution_count": 167,
      "metadata": {
        "colab": {
          "base_uri": "https://localhost:8080/",
          "height": 283
        },
        "id": "UjDdPhvyXBDE",
        "outputId": "4126e71c-9370-47ee-9fa0-a08ad4722b16"
      },
      "outputs": [
        {
          "output_type": "display_data",
          "data": {
            "text/plain": [
              "<Figure size 432x288 with 2 Axes>"
            ],
            "image/png": "[encoded data removed]"
          },
          "metadata": {
            "needs_background": "light"
          }
        }
      ],
      "source": [
        "# create a confusion matrix with the test data\n",
        "ConfusionMatrixDisplay.from_predictions(y_test, logreg_test_preds,\n",
        "                                         normalize='true',cmap='Greens');"
      ]
    },
    {
      "cell_type": "markdown",
      "metadata": {
        "id": "CWApojBHXluF"
      },
      "source": [
        "#### **Balancing the class weight**"
      ]
    },
    {
      "cell_type": "code",
      "execution_count": 198,
      "metadata": {
        "colab": {
          "base_uri": "https://localhost:8080/",
          "height": 432
        },
        "id": "E2qktuyyYv9e",
        "outputId": "a6ce8043-4c80-4c89-ec1f-03cd08a1a1ac"
      },
      "outputs": [
        {
          "output_type": "stream",
          "name": "stdout",
          "text": [
            "              precision    recall  f1-score   support\n",
            "\n",
            "           0       0.87      0.79      0.83      6043\n",
            "           1       0.64      0.77      0.70      3026\n",
            "\n",
            "    accuracy                           0.78      9069\n",
            "   macro avg       0.76      0.78      0.76      9069\n",
            "weighted avg       0.79      0.78      0.78      9069\n",
            "\n"
          ]
        },
        {
          "output_type": "display_data",
          "data": {
            "text/plain": [
              "<Figure size 432x288 with 2 Axes>"
            ],
            "image/png": "[encoded data removed]"
          },
          "metadata": {
            "needs_background": "light"
          }
        }
      ],
      "source": [
        "#Instantiate the pipeline with the scaler and weighted model\n",
        "log_reg_weighted = LogisticRegression(max_iter=1000, class_weight='balanced')\n",
        "\n",
        "# creating a pipeline\n",
        "log_reg_weighted_pipe = make_pipeline(scaler, log_reg_weighted)\n",
        "\n",
        "#Fit and evaluate the model\n",
        "log_reg_weighted_pipe.fit(X_train, y_train)\n",
        "\n",
        "# Evaluate the logistic regression pipe using function\n",
        "evaluate_classification(log_reg_weighted_pipe, X_test, y_test)"
      ]
    },
    {
      "cell_type": "code",
      "execution_count": 169,
      "metadata": {
        "colab": {
          "base_uri": "https://localhost:8080/",
          "height": 421
        },
        "id": "DP0bbNbzXoQy",
        "outputId": "57271e6c-cd3f-472c-f8ea-601643d2f840"
      },
      "outputs": [
        {
          "output_type": "execute_result",
          "data": {
            "text/plain": [
              "{0.0001: 0.6663358694453633,\n",
              " 0.001: 0.783658617267615,\n",
              " 0.01: 0.8024037931414709,\n",
              " 0.1: 0.8049399051714632,\n",
              " 1: 0.8048296394310288,\n",
              " 10: 0.8048296394310288,\n",
              " 100: 0.8048296394310288,\n",
              " 1000: 0.8048296394310288}"
            ]
          },
          "metadata": {},
          "execution_count": 169
        },
        {
          "output_type": "display_data",
          "data": {
            "text/plain": [
              "<Figure size 432x288 with 1 Axes>"
            ],
            "image/png": "[encoded data removed]"
          },
          "metadata": {
            "needs_background": "light"
          }
        }
      ],
      "source": [
        "# create a list of c values and empty list for scores\n",
        "c_values = [0.0001,0.001,0.01,0.1,1,10,100,1000]\n",
        "train_scores = []\n",
        "test_scores = []\n",
        "# iterating over the c values\n",
        "for c in c_values:\n",
        "\n",
        "  # instantiate a model with each value of c and fit the model\n",
        "  log_reg = LogisticRegression(C=c, max_iter=1000,solver='liblinear', penalty='l1')\n",
        "  log_reg_pipe = make_pipeline(scaler, log_reg)\n",
        "  log_reg_pipe.fit(X_train,y_train)\n",
        "  test_preds_l1 =log_reg_pipe.predict(X_test)\n",
        "\n",
        "\n",
        "  # add the training and testing scores to the score lists\n",
        "  train_scores.append(log_reg_pipe.score(X_train,y_train))\n",
        "  test_scores.append(log_reg_pipe.score(X_test,y_test))\n",
        "\n",
        "# plot the change in accuracy as the c values changes\n",
        "figm,ax = plt.subplots(1,1)\n",
        "ax.plot(c_values,train_scores,label='Training Accuracy')\n",
        "ax.plot(c_values,test_scores,label='Testing Accuracy')\n",
        "ax.set_xticks(c_values)\n",
        "ax.set_title('Change in accuracy over C Values for l1 regularization')\n",
        "ax.legend()\n",
        "\n",
        "ax.set_xscale('log')\n",
        "\n",
        "# print a dictionary of values of c and accuracy scores\n",
        "{c:score for c, score in zip(c_values,test_scores)} "
      ]
    },
    {
      "cell_type": "code",
      "execution_count": 170,
      "metadata": {
        "colab": {
          "base_uri": "https://localhost:8080/",
          "height": 421
        },
        "id": "vl95SG4EYdJn",
        "outputId": "ea1003db-d653-47f9-f463-46c687a05bb6"
      },
      "outputs": [
        {
          "output_type": "execute_result",
          "data": {
            "text/plain": [
              "{0.0001: 0.7236740544712758,\n",
              " 0.001: 0.7960083801962731,\n",
              " 0.01: 0.8017421986988643,\n",
              " 0.1: 0.8050501709118977,\n",
              " 1: 0.8048296394310288,\n",
              " 10: 0.8048296394310288,\n",
              " 100: 0.8048296394310288,\n",
              " 1000: 0.8048296394310288}"
            ]
          },
          "metadata": {},
          "execution_count": 170
        },
        {
          "output_type": "display_data",
          "data": {
            "text/plain": [
              "<Figure size 432x288 with 1 Axes>"
            ],
            "image/png": "[encoded data removed]"
          },
          "metadata": {
            "needs_background": "light"
          }
        }
      ],
      "source": [
        "# create a list of c values and empty lists for scores\n",
        "c_values = [0.0001, 0.001, 0.01, 0.1, 1, 10, 100, 1000]\n",
        "train_scores = []\n",
        "test_scores = []\n",
        "#iterative over the c values\n",
        "for c in c_values:\n",
        "  # instantiate a model with each value of c and fit it on the data\n",
        "  log_reg = LogisticRegression(C=c, max_iter=1000, solver='lbfgs', penalty='l2')\n",
        "  log_reg_pipe = make_pipeline(scaler, log_reg)\n",
        "  log_reg_pipe.fit(X_train, y_train)\n",
        " \n",
        "  # add the training and testing scores to our scores lists\n",
        "  train_scores.append(log_reg_pipe.score(X_train, y_train))\n",
        "  test_scores.append(log_reg_pipe.score(X_test, y_test))\n",
        "  \n",
        "#plot the change in accuracy as we change the value of C\n",
        "fig, ax = plt.subplots(1,1)\n",
        "ax.plot(c_values, train_scores, label='Training Accuracy')\n",
        "ax.plot(c_values, test_scores, label='Testing Accuracy')\n",
        "ax.set_xticks(c_values)\n",
        "ax.set_title('Change in accuracy over C values for l2 regularization')\n",
        "ax.legend()\n",
        "#set the x axis to a logarithmic scale to show the values of C in even intervals\n",
        "ax.set_xscale('log')\n",
        "# print a dictionary of values of C and accuracy scores\n",
        "{c:score for c, score in zip(c_values, test_scores)}"
      ]
    },
    {
      "cell_type": "markdown",
      "source": [
        "### **Changing Decision Thresholds**"
      ],
      "metadata": {
        "id": "mpHHK13Be8jc"
      }
    },
    {
      "cell_type": "code",
      "source": [
        "## get the predicted probabilities insead of predicted classes\n",
        "train_probs = log_reg_pipe.predict_proba(X_train)\n",
        "test_probs = log_reg_pipe.predict_proba(X_test)"
      ],
      "metadata": {
        "id": "4fxuJDvhe8F3"
      },
      "execution_count": 171,
      "outputs": []
    },
    {
      "cell_type": "code",
      "source": [
        "## display the results\n",
        "train_probs[:10]"
      ],
      "metadata": {
        "colab": {
          "base_uri": "https://localhost:8080/"
        },
        "id": "f__esK0ifWKz",
        "outputId": "587db784-890c-4035-f8f3-da3de11148d9"
      },
      "execution_count": 172,
      "outputs": [
        {
          "output_type": "execute_result",
          "data": {
            "text/plain": [
              "array([[0.34788717, 0.65211283],\n",
              "       [0.40073926, 0.59926074],\n",
              "       [0.0763585 , 0.9236415 ],\n",
              "       [0.68949812, 0.31050188],\n",
              "       [0.77838036, 0.22161964],\n",
              "       [0.66779897, 0.33220103],\n",
              "       [0.8771946 , 0.1228054 ],\n",
              "       [0.54988192, 0.45011808],\n",
              "       [0.96717441, 0.03282559],\n",
              "       [0.70960275, 0.29039725]])"
            ]
          },
          "metadata": {},
          "execution_count": 172
        }
      ]
    },
    {
      "cell_type": "code",
      "source": [
        "## setting the thresh variable \n",
        "thresh = 0.4\n",
        "\n",
        "# using a list comprehension to apply threshold to 2nd value in each prediction\n",
        "train_thresh = [1 if x[1] > thresh else 0 for x in train_probs]\n",
        "test_thresh = [1 if x[1] > thresh else 0 for x in test_probs]\n",
        "\n",
        "print(f'Predictions with the default decision threshold of .5')\n",
        "print(logreg_train_preds[:5], '\\n')\n",
        "\n",
        "print(f'Predictions with the default decision threshold of {thresh}')\n",
        "print(train_thresh[:5], '\\n')\n",
        "\n",
        "print(f'True Labels')\n",
        "print(y_train[:5].values)\n",
        "\n"
      ],
      "metadata": {
        "colab": {
          "base_uri": "https://localhost:8080/"
        },
        "id": "V6O8RrDTfnYc",
        "outputId": "9b78fe2e-a780-420d-cb6d-78f718a6d96b"
      },
      "execution_count": 173,
      "outputs": [
        {
          "output_type": "stream",
          "name": "stdout",
          "text": [
            "Predictions with the default decision threshold of .5\n",
            "[1 1 1 0 0] \n",
            "\n",
            "Predictions with the default decision threshold of 0.4\n",
            "[1, 1, 1, 0, 0] \n",
            "\n",
            "True Labels\n",
            "[1 1 1 1 0]\n"
          ]
        }
      ]
    },
    {
      "cell_type": "markdown",
      "source": [
        "### **Comparing Confusion Matrices**"
      ],
      "metadata": {
        "id": "E-UEswnKiMCW"
      }
    },
    {
      "cell_type": "code",
      "source": [
        "## plotting confusion matrices for both .5 and a 'thresh' thresholds\n",
        "fig, axes = plt.subplots(1,2, figsize=(15,5))\n",
        "\n",
        "## Confusion Matrix for default threshold\n",
        "ConfusionMatrixDisplay.from_predictions(y_test, logreg_test_preds,\n",
        "                                        normalize='true', display_labels=labels, cmap='Greens',\n",
        "                                        ax=axes[0])\n",
        "axes[0].set_title('Decision Threshold .5')\n",
        "\n",
        "## Confusion Matrix for threshold value \n",
        "ConfusionMatrixDisplay.from_predictions(y_test, test_thresh,\n",
        "                                        normalize='true', display_labels=labels, cmap='Blues',\n",
        "                                        ax=axes[1])\n",
        "axes[1].set_title(f'Decision Threshold {thresh}');\n"
      ],
      "metadata": {
        "colab": {
          "base_uri": "https://localhost:8080/",
          "height": 351
        },
        "id": "Hd9LMqLuiPOu",
        "outputId": "bbba8ac4-9092-4aa7-9b9b-24a60b71814d"
      },
      "execution_count": 174,
      "outputs": [
        {
          "output_type": "display_data",
          "data": {
            "text/plain": [
              "<Figure size 1080x360 with 4 Axes>"
            ],
            "image/png": "[encoded data removed]"
          },
          "metadata": {
            "needs_background": "light"
          }
        }
      ]
    },
    {
      "cell_type": "markdown",
      "source": [
        "### **Looping over the thresholds**"
      ],
      "metadata": {
        "id": "Mr3nqNBNjiBu"
      }
    },
    {
      "cell_type": "code",
      "source": [
        "## Create an array of 20 thesholds to use\n",
        "thresholds = np.array(range(0,105,5)) / 100\n",
        "thresholds[:5]"
      ],
      "metadata": {
        "colab": {
          "base_uri": "https://localhost:8080/"
        },
        "id": "B3PhWry7jfcJ",
        "outputId": "9b396c36-4cb7-434d-a9c2-29133e8549c3"
      },
      "execution_count": 175,
      "outputs": [
        {
          "output_type": "execute_result",
          "data": {
            "text/plain": [
              "array([0.  , 0.05, 0.1 , 0.15, 0.2 ])"
            ]
          },
          "metadata": {},
          "execution_count": 175
        }
      ]
    },
    {
      "cell_type": "code",
      "source": [
        "## Create a scores_df to store Accuracy Scores\n",
        "score_df = pd.DataFrame(index=thresholds, columns=['Train Accuracy','Test Accuracy'])\n",
        "\n",
        "## for each threshold:\n",
        "for thresh in thresholds:\n",
        "\n",
        "  ## Get the predicted classes for training and test data\n",
        "  train_thresh = [1 if x[1] > thresh else 0 for x in train_probs]\n",
        "  test_thresh = [1 if x[1] > thresh else 0 for x in test_probs]\n",
        "\n",
        "  ## Save the Training and test accuracy scores to the score_df \n",
        "  score_df.loc[thresh, 'Train Accuracy'] = accuracy_score(train_thresh, y_train)\n",
        "  score_df.loc[thresh, 'Test Accuracy'] = accuracy_score(test_thresh, y_test)\n",
        "\n",
        "## Plot the results\n",
        "score_df.plot(marker='.')\n",
        "plt.xlabel('Decision Threshold')\n",
        "plt.ylabel('Accuracy Score')"
      ],
      "metadata": {
        "colab": {
          "base_uri": "https://localhost:8080/",
          "height": 296
        },
        "id": "18rzr1VgjsX5",
        "outputId": "66d22ec3-aaa2-4999-ab37-b7fc943751dc"
      },
      "execution_count": 176,
      "outputs": [
        {
          "output_type": "execute_result",
          "data": {
            "text/plain": [
              "Text(0, 0.5, 'Accuracy Score')"
            ]
          },
          "metadata": {},
          "execution_count": 176
        },
        {
          "output_type": "display_data",
          "data": {
            "text/plain": [
              "<Figure size 432x288 with 1 Axes>"
            ],
            "image/png": "[encoded data removed]"
          },
          "metadata": {
            "needs_background": "light"
          }
        }
      ]
    },
    {
      "cell_type": "code",
      "source": [
        "## sorting the scores dataframe\n",
        "score_df.sort_values(by='Test Accuracy', ascending=False).head()"
      ],
      "metadata": {
        "colab": {
          "base_uri": "https://localhost:8080/",
          "height": 204
        },
        "id": "cM27lmVxzL6e",
        "outputId": "aa308a2c-1bfa-4562-ebd4-6fccbe14ae02"
      },
      "execution_count": 177,
      "outputs": [
        {
          "output_type": "execute_result",
          "data": {
            "text/plain": [
              "     Train Accuracy Test Accuracy\n",
              "0.50       0.804822       0.80483\n",
              "0.45       0.797581      0.799978\n",
              "0.55       0.800301      0.798434\n",
              "0.40       0.791553       0.79259\n",
              "0.60       0.790304      0.788621"
            ],
            "text/html": [
              "\n",
              "  <div id=\"df-ed732ea2-6000-48f8-9f09-7e2252502600\">\n",
              "    <div class=\"colab-df-container\">\n",
              "      <div>\n",
              "<style scoped>\n",
              "    .dataframe tbody tr th:only-of-type {\n",
              "        vertical-align: middle;\n",
              "    }\n",
              "\n",
              "    .dataframe tbody tr th {\n",
              "        vertical-align: top;\n",
              "    }\n",
              "\n",
              "    .dataframe thead th {\n",
              "        text-align: right;\n",
              "    }\n",
              "</style>\n",
              "<table border=\"1\" class=\"dataframe\">\n",
              "  <thead>\n",
              "    <tr style=\"text-align: right;\">\n",
              "      <th></th>\n",
              "      <th>Train Accuracy</th>\n",
              "      <th>Test Accuracy</th>\n",
              "    </tr>\n",
              "  </thead>\n",
              "  <tbody>\n",
              "    <tr>\n",
              "      <th>0.50</th>\n",
              "      <td>0.804822</td>\n",
              "      <td>0.80483</td>\n",
              "    </tr>\n",
              "    <tr>\n",
              "      <th>0.45</th>\n",
              "      <td>0.797581</td>\n",
              "      <td>0.799978</td>\n",
              "    </tr>\n",
              "    <tr>\n",
              "      <th>0.55</th>\n",
              "      <td>0.800301</td>\n",
              "      <td>0.798434</td>\n",
              "    </tr>\n",
              "    <tr>\n",
              "      <th>0.40</th>\n",
              "      <td>0.791553</td>\n",
              "      <td>0.79259</td>\n",
              "    </tr>\n",
              "    <tr>\n",
              "      <th>0.60</th>\n",
              "      <td>0.790304</td>\n",
              "      <td>0.788621</td>\n",
              "    </tr>\n",
              "  </tbody>\n",
              "</table>\n",
              "</div>\n",
              "      <button class=\"colab-df-convert\" onclick=\"convertToInteractive('df-ed732ea2-6000-48f8-9f09-7e2252502600')\"\n",
              "              title=\"Convert this dataframe to an interactive table.\"\n",
              "              style=\"display:none;\">\n",
              "        \n",
              "  <svg xmlns=\"http://www.w3.org/2000/svg\" height=\"24px\"viewBox=\"0 0 24 24\"\n",
              "       width=\"24px\">\n",
              "    <path d=\"M0 0h24v24H0V0z\" fill=\"none\"/>\n",
              "    <path d=\"M18.56 5.44l.94 2.06.94-2.06 2.06-.94-2.06-.94-.94-2.06-.94 2.06-2.06.94zm-11 1L8.5 8.5l.94-2.06 2.06-.94-2.06-.94L8.5 2.5l-.94 2.06-2.06.94zm10 10l.94 2.06.94-2.06 2.06-.94-2.06-.94-.94-2.06-.94 2.06-2.06.94z\"/><path d=\"M17.41 7.96l-1.37-1.37c-.4-.4-.92-.59-1.43-.59-.52 0-1.04.2-1.43.59L10.3 9.45l-7.72 7.72c-.78.78-.78 2.05 0 2.83L4 21.41c.39.39.9.59 1.41.59.51 0 1.02-.2 1.41-.59l7.78-7.78 2.81-2.81c.8-.78.8-2.07 0-2.86zM5.41 20L4 18.59l7.72-7.72 1.47 1.35L5.41 20z\"/>\n",
              "  </svg>\n",
              "      </button>\n",
              "      \n",
              "  <style>\n",
              "    .colab-df-container {\n",
              "      display:flex;\n",
              "      flex-wrap:wrap;\n",
              "      gap: 12px;\n",
              "    }\n",
              "\n",
              "    .colab-df-convert {\n",
              "      background-color: #E8F0FE;\n",
              "      border: none;\n",
              "      border-radius: 50%;\n",
              "      cursor: pointer;\n",
              "      display: none;\n",
              "      fill: #1967D2;\n",
              "      height: 32px;\n",
              "      padding: 0 0 0 0;\n",
              "      width: 32px;\n",
              "    }\n",
              "\n",
              "    .colab-df-convert:hover {\n",
              "      background-color: #E2EBFA;\n",
              "      box-shadow: 0px 1px 2px rgba(60, 64, 67, 0.3), 0px 1px 3px 1px rgba(60, 64, 67, 0.15);\n",
              "      fill: #174EA6;\n",
              "    }\n",
              "\n",
              "    [theme=dark] .colab-df-convert {\n",
              "      background-color: #3B4455;\n",
              "      fill: #D2E3FC;\n",
              "    }\n",
              "\n",
              "    [theme=dark] .colab-df-convert:hover {\n",
              "      background-color: #434B5C;\n",
              "      box-shadow: 0px 1px 3px 1px rgba(0, 0, 0, 0.15);\n",
              "      filter: drop-shadow(0px 1px 2px rgba(0, 0, 0, 0.3));\n",
              "      fill: #FFFFFF;\n",
              "    }\n",
              "  </style>\n",
              "\n",
              "      <script>\n",
              "        const buttonEl =\n",
              "          document.querySelector('#df-ed732ea2-6000-48f8-9f09-7e2252502600 button.colab-df-convert');\n",
              "        buttonEl.style.display =\n",
              "          google.colab.kernel.accessAllowed ? 'block' : 'none';\n",
              "\n",
              "        async function convertToInteractive(key) {\n",
              "          const element = document.querySelector('#df-ed732ea2-6000-48f8-9f09-7e2252502600');\n",
              "          const dataTable =\n",
              "            await google.colab.kernel.invokeFunction('convertToInteractive',\n",
              "                                                     [key], {});\n",
              "          if (!dataTable) return;\n",
              "\n",
              "          const docLinkHtml = 'Like what you see? Visit the ' +\n",
              "            '<a target=\"_blank\" href=https://colab.research.google.com/notebooks/data_table.ipynb>data table notebook</a>'\n",
              "            + ' to learn more about interactive tables.';\n",
              "          element.innerHTML = '';\n",
              "          dataTable['output_type'] = 'display_data';\n",
              "          await google.colab.output.renderOutput(dataTable, element);\n",
              "          const docLink = document.createElement('div');\n",
              "          docLink.innerHTML = docLinkHtml;\n",
              "          element.appendChild(docLink);\n",
              "        }\n",
              "      </script>\n",
              "    </div>\n",
              "  </div>\n",
              "  "
            ]
          },
          "metadata": {},
          "execution_count": 177
        }
      ]
    },
    {
      "cell_type": "markdown",
      "source": [
        "### **ROC Curve**"
      ],
      "metadata": {
        "id": "GBmV2pqy2K3z"
      }
    },
    {
      "cell_type": "code",
      "source": [
        "## Display the ROC Curve\n",
        "RocCurveDisplay.from_estimator(logreg_pipe, X_test, y_test);"
      ],
      "metadata": {
        "colab": {
          "base_uri": "https://localhost:8080/",
          "height": 279
        },
        "id": "_TIQG5s_2MmT",
        "outputId": "a0fedea2-57cb-4bc5-f45d-2444b4adbc88"
      },
      "execution_count": 179,
      "outputs": [
        {
          "output_type": "display_data",
          "data": {
            "text/plain": [
              "<Figure size 432x288 with 1 Axes>"
            ],
            "image/png": "[encoded data removed]"
          },
          "metadata": {
            "needs_background": "light"
          }
        }
      ]
    },
    {
      "cell_type": "code",
      "source": [
        "## Use the function twice to evaluate our model on training AND test data\n",
        "classification_metrics(logreg_pipe, X_train,y_train, \n",
        "                         cmap='Blues', label='Training Data')\n",
        "classification_metrics(logreg_pipe, X_test,y_test, \n",
        "                         cmap='Greens',label='Test Data')"
      ],
      "metadata": {
        "colab": {
          "base_uri": "https://localhost:8080/",
          "height": 1000
        },
        "id": "Za7gdwE_6Kcp",
        "outputId": "b1ec72fb-34c7-4a7e-d175-a496f35ad452"
      },
      "execution_count": 191,
      "outputs": [
        {
          "output_type": "stream",
          "name": "stdout",
          "text": [
            "------------------------------------------------------------\n",
            "[i] CLASSIFICATION REPORT FOR: Training Data\n",
            "------------------------------------------------------------\n",
            "              precision    recall  f1-score   support\n",
            "\n",
            "           0       0.83      0.90      0.86     18347\n",
            "           1       0.74      0.62      0.67      8859\n",
            "\n",
            "    accuracy                           0.80     27206\n",
            "   macro avg       0.78      0.76      0.77     27206\n",
            "weighted avg       0.80      0.80      0.80     27206\n",
            "\n"
          ]
        },
        {
          "output_type": "display_data",
          "data": {
            "text/plain": [
              "<Figure size 1080x360 with 3 Axes>"
            ],
            "image/png": "[encoded data removed]"
          },
          "metadata": {
            "needs_background": "light"
          }
        },
        {
          "output_type": "stream",
          "name": "stdout",
          "text": [
            "------------------------------------------------------------\n",
            "[i] CLASSIFICATION REPORT FOR: Test Data\n",
            "------------------------------------------------------------\n",
            "              precision    recall  f1-score   support\n",
            "\n",
            "           0       0.82      0.90      0.86      6043\n",
            "           1       0.76      0.61      0.68      3026\n",
            "\n",
            "    accuracy                           0.80      9069\n",
            "   macro avg       0.79      0.76      0.77      9069\n",
            "weighted avg       0.80      0.80      0.80      9069\n",
            "\n"
          ]
        },
        {
          "output_type": "display_data",
          "data": {
            "text/plain": [
              "<Figure size 1080x360 with 3 Axes>"
            ],
            "image/png": "[encoded data removed]"
          },
          "metadata": {
            "needs_background": "light"
          }
        }
      ]
    },
    {
      "cell_type": "markdown",
      "metadata": {
        "id": "8alFbMwJgy4H"
      },
      "source": [
        "## **K-Nearest Neighbor**"
      ]
    },
    {
      "cell_type": "code",
      "execution_count": 189,
      "metadata": {
        "colab": {
          "base_uri": "https://localhost:8080/",
          "height": 170
        },
        "id": "TWj3decGg4_L",
        "outputId": "9ce5a49e-1673-489a-9277-35ff01974cc0"
      },
      "outputs": [
        {
          "output_type": "execute_result",
          "data": {
            "text/plain": [
              "Pipeline(steps=[('standardscaler', StandardScaler()),\n",
              "                ('kneighborsclassifier', KNeighborsClassifier())])"
            ],
            "text/html": [
              "<style>#sk-container-id-1 {color: black;background-color: white;}#sk-container-id-1 pre{padding: 0;}#sk-container-id-1 div.sk-toggleable {background-color: white;}#sk-container-id-1 label.sk-toggleable__label {cursor: pointer;display: block;width: 100%;margin-bottom: 0;padding: 0.3em;box-sizing: border-box;text-align: center;}#sk-container-id-1 label.sk-toggleable__label-arrow:before {content: \"▸\";float: left;margin-right: 0.25em;color: #696969;}#sk-container-id-1 label.sk-toggleable__label-arrow:hover:before {color: black;}#sk-container-id-1 div.sk-estimator:hover label.sk-toggleable__label-arrow:before {color: black;}#sk-container-id-1 div.sk-toggleable__content {max-height: 0;max-width: 0;overflow: hidden;text-align: left;background-color: #f0f8ff;}#sk-container-id-1 div.sk-toggleable__content pre {margin: 0.2em;color: black;border-radius: 0.25em;background-color: #f0f8ff;}#sk-container-id-1 input.sk-toggleable__control:checked~div.sk-toggleable__content {max-height: 200px;max-width: 100%;overflow: auto;}#sk-container-id-1 input.sk-toggleable__control:checked~label.sk-toggleable__label-arrow:before {content: \"▾\";}#sk-container-id-1 div.sk-estimator input.sk-toggleable__control:checked~label.sk-toggleable__label {background-color: #d4ebff;}#sk-container-id-1 div.sk-label input.sk-toggleable__control:checked~label.sk-toggleable__label {background-color: #d4ebff;}#sk-container-id-1 input.sk-hidden--visually {border: 0;clip: rect(1px 1px 1px 1px);clip: rect(1px, 1px, 1px, 1px);height: 1px;margin: -1px;overflow: hidden;padding: 0;position: absolute;width: 1px;}#sk-container-id-1 div.sk-estimator {font-family: monospace;background-color: #f0f8ff;border: 1px dotted black;border-radius: 0.25em;box-sizing: border-box;margin-bottom: 0.5em;}#sk-container-id-1 div.sk-estimator:hover {background-color: #d4ebff;}#sk-container-id-1 div.sk-parallel-item::after {content: \"\";width: 100%;border-bottom: 1px solid gray;flex-grow: 1;}#sk-container-id-1 div.sk-label:hover label.sk-toggleable__label {background-color: #d4ebff;}#sk-container-id-1 div.sk-serial::before {content: \"\";position: absolute;border-left: 1px solid gray;box-sizing: border-box;top: 0;bottom: 0;left: 50%;z-index: 0;}#sk-container-id-1 div.sk-serial {display: flex;flex-direction: column;align-items: center;background-color: white;padding-right: 0.2em;padding-left: 0.2em;position: relative;}#sk-container-id-1 div.sk-item {position: relative;z-index: 1;}#sk-container-id-1 div.sk-parallel {display: flex;align-items: stretch;justify-content: center;background-color: white;position: relative;}#sk-container-id-1 div.sk-item::before, #sk-container-id-1 div.sk-parallel-item::before {content: \"\";position: absolute;border-left: 1px solid gray;box-sizing: border-box;top: 0;bottom: 0;left: 50%;z-index: -1;}#sk-container-id-1 div.sk-parallel-item {display: flex;flex-direction: column;z-index: 1;position: relative;background-color: white;}#sk-container-id-1 div.sk-parallel-item:first-child::after {align-self: flex-end;width: 50%;}#sk-container-id-1 div.sk-parallel-item:last-child::after {align-self: flex-start;width: 50%;}#sk-container-id-1 div.sk-parallel-item:only-child::after {width: 0;}#sk-container-id-1 div.sk-dashed-wrapped {border: 1px dashed gray;margin: 0 0.4em 0.5em 0.4em;box-sizing: border-box;padding-bottom: 0.4em;background-color: white;}#sk-container-id-1 div.sk-label label {font-family: monospace;font-weight: bold;display: inline-block;line-height: 1.2em;}#sk-container-id-1 div.sk-label-container {text-align: center;}#sk-container-id-1 div.sk-container {/* jupyter's `normalize.less` sets `[hidden] { display: none; }` but bootstrap.min.css set `[hidden] { display: none !important; }` so we also need the `!important` here to be able to override the default hidden behavior on the sphinx rendered scikit-learn.org. See: https://github.com/scikit-learn/scikit-learn/issues/21755 */display: inline-block !important;position: relative;}#sk-container-id-1 div.sk-text-repr-fallback {display: none;}</style><div id=\"sk-container-id-1\" class=\"sk-top-container\"><div class=\"sk-text-repr-fallback\"><pre>Pipeline(steps=[(&#x27;standardscaler&#x27;, StandardScaler()),\n",
              "                (&#x27;kneighborsclassifier&#x27;, KNeighborsClassifier())])</pre><b>In a Jupyter environment, please rerun this cell to show the HTML representation or trust the notebook. <br />On GitHub, the HTML representation is unable to render, please try loading this page with nbviewer.org.</b></div><div class=\"sk-container\" hidden><div class=\"sk-item sk-dashed-wrapped\"><div class=\"sk-label-container\"><div class=\"sk-label sk-toggleable\"><input class=\"sk-toggleable__control sk-hidden--visually\" id=\"sk-estimator-id-1\" type=\"checkbox\" ><label for=\"sk-estimator-id-1\" class=\"sk-toggleable__label sk-toggleable__label-arrow\">Pipeline</label><div class=\"sk-toggleable__content\"><pre>Pipeline(steps=[(&#x27;standardscaler&#x27;, StandardScaler()),\n",
              "                (&#x27;kneighborsclassifier&#x27;, KNeighborsClassifier())])</pre></div></div></div><div class=\"sk-serial\"><div class=\"sk-item\"><div class=\"sk-estimator sk-toggleable\"><input class=\"sk-toggleable__control sk-hidden--visually\" id=\"sk-estimator-id-2\" type=\"checkbox\" ><label for=\"sk-estimator-id-2\" class=\"sk-toggleable__label sk-toggleable__label-arrow\">StandardScaler</label><div class=\"sk-toggleable__content\"><pre>StandardScaler()</pre></div></div></div><div class=\"sk-item\"><div class=\"sk-estimator sk-toggleable\"><input class=\"sk-toggleable__control sk-hidden--visually\" id=\"sk-estimator-id-3\" type=\"checkbox\" ><label for=\"sk-estimator-id-3\" class=\"sk-toggleable__label sk-toggleable__label-arrow\">KNeighborsClassifier</label><div class=\"sk-toggleable__content\"><pre>KNeighborsClassifier()</pre></div></div></div></div></div></div></div>"
            ]
          },
          "metadata": {},
          "execution_count": 189
        }
      ],
      "source": [
        "# create an instance of the model\n",
        "knn = KNeighborsClassifier()\n",
        "# create model pipeline\n",
        "knn_pipe = make_pipeline(scaler,knn)\n",
        "# fit the model\n",
        "knn_pipe.fit(X_train,y_train)"
      ]
    }
  ],
  "metadata": {
    "colab": {
      "toc_visible": true,
      "provenance": [],
      "include_colab_link": true
    },
    "kernelspec": {
      "display_name": "Python 3",
      "language": "python",
      "name": "python3"
    },
    "language_info": {
      "codemirror_mode": {
        "name": "ipython",
        "version": 3
      },
      "file_extension": ".py",
      "mimetype": "text/x-python",
      "name": "python",
      "nbconvert_exporter": "python",
      "pygments_lexer": "ipython3",
      "version": "3.8.5"
    }
  },
  "nbformat": 4,
  "nbformat_minor": 0
}